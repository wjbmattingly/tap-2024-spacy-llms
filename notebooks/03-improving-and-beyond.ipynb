{
 "cells": [
  {
   "cell_type": "markdown",
   "id": "3e89c5b3",
   "metadata": {},
   "source": [
    "<img align=\"left\" src=\"https://ithaka-labs.s3.amazonaws.com/static-files/images/tdm/tdmdocs/tapi-logo-small.png\" />\n",
    "\n",
    "This notebook free for educational reuse under [Creative Commons CC BY License](https://creativecommons.org/licenses/by/4.0/).\n",
    "\n",
    "Created by [Firstname Lastname](https://) for the 2024 Text Analysis Pedagogy Institute, with support from [Constellate](https://constellate.org).\n",
    "\n",
    "For questions/comments/improvements, email author@email.address.<br />\n",
    "____"
   ]
  },
  {
   "cell_type": "markdown",
   "id": "68f932d1",
   "metadata": {},
   "source": [
    "# `spaCy in the World of LLMs` `1`\n",
    "\n",
    "This is lesson `3` of 3 in the educational series on `spaCy and Large Language Models (LLMs)`. This notebook we will continue our work with `spacy-llm`. Unlike in the last notebook, we will not rely on zero-shot classification. Instead, we will learn about how to provide examples to LLMs. This is known as single-shot and few-shot classification. We will also learn about the benefits of this process.\n",
    "\n",
    "**Skills:** \n",
    "* Python\n",
    "\n",
    "**Audience:** `Teachers` / `Learners` / `Researchers`\n",
    "\n",
    "**Use case:** `Tutorial` / `Reference` / `Explanation` \n",
    "\n",
    "`Include the use case definition from [here](https://constellate.org/docs/documentation-categories)`\n",
    "\n",
    "**Difficulty:** `Beginner`\n",
    "\n",
    "`Beginner assumes users are relatively new to Python and Jupyter Notebooks. The user is helped step-by-step with lots of explanatory text.`\n",
    "`Intermediate assumes users are familiar with Python and have been programming for 6+ months. Code makes up a larger part of the notebook and basic concepts related to Python are not explained.`\n",
    "`Advanced assumes users are very familiar with Python and have been programming for years, but they may not be familiar with the process being explained.`\n",
    "\n",
    "**Completion time:** `90 minutes`\n",
    "\n",
    "**Knowledge Required:** \n",
    "```\n",
    "* Python basics (variables, flow control, functions, lists, dictionaries)\n",
    "```\n",
    "\n",
    "**Knowledge Recommended:**\n",
    "```\n",
    "* A general understanding of natural language processing (NLP)\n",
    "```\n",
    "\n",
    "**Learning Objectives:**\n",
    "After this lesson, learners will be able to:\n",
    "```\n",
    "1. Understand the main concepts of natural language processing (NLP)\n",
    "2. Understand the role of spaCy within NLP\n",
    "3. Understand the key advantages and disadvantages of large language models.\n",
    "```\n",
    "___"
   ]
  },
  {
   "cell_type": "markdown",
   "id": "157c0555",
   "metadata": {},
   "source": [
    "# Required Python Libraries\n",
    "`List out any libraries used and what they are used for`\n",
    "* [spaCy](https://spacy.io/) for performing [natural language processing](https://docs.constellate.org/key-terms/#nlp).\n",
    "* `spacy-llm` for working with large language models\n",
    "* `gliner-spacy` for performing zero-shot classification locally\n",
    "\n",
    "## Install Required Libraries"
   ]
  },
  {
   "cell_type": "code",
   "execution_count": 160,
   "id": "e8a220f5",
   "metadata": {},
   "outputs": [
    {
     "name": "stdout",
     "output_type": "stream",
     "text": [
      "Requirement already satisfied: spacy in /Applications/anaconda3/envs/tap/lib/python3.10/site-packages (3.7.5)\n",
      "Requirement already satisfied: spacy-llm in /Applications/anaconda3/envs/tap/lib/python3.10/site-packages (0.7.2)\n",
      "Collecting gliner-spacy\n",
      "  Downloading gliner_spacy-0.0.10-py3-none-any.whl.metadata (3.6 kB)\n",
      "Requirement already satisfied: spacy-legacy<3.1.0,>=3.0.11 in /Applications/anaconda3/envs/tap/lib/python3.10/site-packages (from spacy) (3.0.12)\n",
      "Requirement already satisfied: spacy-loggers<2.0.0,>=1.0.0 in /Applications/anaconda3/envs/tap/lib/python3.10/site-packages (from spacy) (1.0.5)\n",
      "Requirement already satisfied: murmurhash<1.1.0,>=0.28.0 in /Applications/anaconda3/envs/tap/lib/python3.10/site-packages (from spacy) (1.0.10)\n",
      "Requirement already satisfied: cymem<2.1.0,>=2.0.2 in /Applications/anaconda3/envs/tap/lib/python3.10/site-packages (from spacy) (2.0.8)\n",
      "Requirement already satisfied: preshed<3.1.0,>=3.0.2 in /Applications/anaconda3/envs/tap/lib/python3.10/site-packages (from spacy) (3.0.9)\n",
      "Requirement already satisfied: thinc<8.3.0,>=8.2.2 in /Applications/anaconda3/envs/tap/lib/python3.10/site-packages (from spacy) (8.2.5)\n",
      "Requirement already satisfied: wasabi<1.2.0,>=0.9.1 in /Applications/anaconda3/envs/tap/lib/python3.10/site-packages (from spacy) (1.1.3)\n",
      "Requirement already satisfied: srsly<3.0.0,>=2.4.3 in /Applications/anaconda3/envs/tap/lib/python3.10/site-packages (from spacy) (2.4.8)\n",
      "Requirement already satisfied: catalogue<2.1.0,>=2.0.6 in /Applications/anaconda3/envs/tap/lib/python3.10/site-packages (from spacy) (2.0.10)\n",
      "Requirement already satisfied: weasel<0.5.0,>=0.1.0 in /Applications/anaconda3/envs/tap/lib/python3.10/site-packages (from spacy) (0.4.1)\n",
      "Requirement already satisfied: typer<1.0.0,>=0.3.0 in /Applications/anaconda3/envs/tap/lib/python3.10/site-packages (from spacy) (0.12.3)\n",
      "Requirement already satisfied: tqdm<5.0.0,>=4.38.0 in /Applications/anaconda3/envs/tap/lib/python3.10/site-packages (from spacy) (4.66.4)\n",
      "Requirement already satisfied: requests<3.0.0,>=2.13.0 in /Applications/anaconda3/envs/tap/lib/python3.10/site-packages (from spacy) (2.32.3)\n",
      "Requirement already satisfied: pydantic!=1.8,!=1.8.1,<3.0.0,>=1.7.4 in /Applications/anaconda3/envs/tap/lib/python3.10/site-packages (from spacy) (2.8.2)\n",
      "Requirement already satisfied: jinja2 in /Applications/anaconda3/envs/tap/lib/python3.10/site-packages (from spacy) (3.1.4)\n",
      "Requirement already satisfied: setuptools in /Applications/anaconda3/envs/tap/lib/python3.10/site-packages (from spacy) (69.5.1)\n",
      "Requirement already satisfied: packaging>=20.0 in /Applications/anaconda3/envs/tap/lib/python3.10/site-packages (from spacy) (24.1)\n",
      "Requirement already satisfied: langcodes<4.0.0,>=3.2.0 in /Applications/anaconda3/envs/tap/lib/python3.10/site-packages (from spacy) (3.4.0)\n",
      "Requirement already satisfied: numpy>=1.19.0 in /Applications/anaconda3/envs/tap/lib/python3.10/site-packages (from spacy) (1.26.4)\n",
      "Requirement already satisfied: confection<1.0.0,>=0.1.3 in /Applications/anaconda3/envs/tap/lib/python3.10/site-packages (from spacy-llm) (0.1.5)\n",
      "Collecting gliner>=0.2.0 (from gliner-spacy)\n",
      "  Downloading gliner-0.2.8-py3-none-any.whl.metadata (6.3 kB)\n",
      "Requirement already satisfied: seaborn in /Applications/anaconda3/envs/tap/lib/python3.10/site-packages (from gliner-spacy) (0.13.2)\n",
      "Requirement already satisfied: matplotlib in /Applications/anaconda3/envs/tap/lib/python3.10/site-packages (from gliner-spacy) (3.9.1)\n",
      "Requirement already satisfied: torch>=2.0.0 in /Applications/anaconda3/envs/tap/lib/python3.10/site-packages (from gliner>=0.2.0->gliner-spacy) (2.3.1)\n",
      "Requirement already satisfied: transformers>=4.38.2 in /Applications/anaconda3/envs/tap/lib/python3.10/site-packages (from gliner>=0.2.0->gliner-spacy) (4.42.4)\n",
      "Requirement already satisfied: huggingface-hub>=0.21.4 in /Applications/anaconda3/envs/tap/lib/python3.10/site-packages (from gliner>=0.2.0->gliner-spacy) (0.23.4)\n",
      "Collecting onnxruntime (from gliner>=0.2.0->gliner-spacy)\n",
      "  Downloading onnxruntime-1.18.1-cp310-cp310-macosx_11_0_universal2.whl.metadata (4.3 kB)\n",
      "Collecting sentencepiece (from gliner>=0.2.0->gliner-spacy)\n",
      "  Using cached sentencepiece-0.2.0-cp310-cp310-macosx_11_0_arm64.whl.metadata (7.7 kB)\n",
      "Requirement already satisfied: language-data>=1.2 in /Applications/anaconda3/envs/tap/lib/python3.10/site-packages (from langcodes<4.0.0,>=3.2.0->spacy) (1.2.0)\n",
      "Requirement already satisfied: annotated-types>=0.4.0 in /Applications/anaconda3/envs/tap/lib/python3.10/site-packages (from pydantic!=1.8,!=1.8.1,<3.0.0,>=1.7.4->spacy) (0.7.0)\n",
      "Requirement already satisfied: pydantic-core==2.20.1 in /Applications/anaconda3/envs/tap/lib/python3.10/site-packages (from pydantic!=1.8,!=1.8.1,<3.0.0,>=1.7.4->spacy) (2.20.1)\n",
      "Requirement already satisfied: typing-extensions>=4.6.1 in /Applications/anaconda3/envs/tap/lib/python3.10/site-packages (from pydantic!=1.8,!=1.8.1,<3.0.0,>=1.7.4->spacy) (4.12.2)\n",
      "Requirement already satisfied: charset-normalizer<4,>=2 in /Applications/anaconda3/envs/tap/lib/python3.10/site-packages (from requests<3.0.0,>=2.13.0->spacy) (3.3.2)\n",
      "Requirement already satisfied: idna<4,>=2.5 in /Applications/anaconda3/envs/tap/lib/python3.10/site-packages (from requests<3.0.0,>=2.13.0->spacy) (3.7)\n",
      "Requirement already satisfied: urllib3<3,>=1.21.1 in /Applications/anaconda3/envs/tap/lib/python3.10/site-packages (from requests<3.0.0,>=2.13.0->spacy) (2.2.2)\n",
      "Requirement already satisfied: certifi>=2017.4.17 in /Applications/anaconda3/envs/tap/lib/python3.10/site-packages (from requests<3.0.0,>=2.13.0->spacy) (2024.7.4)\n",
      "Requirement already satisfied: blis<0.8.0,>=0.7.8 in /Applications/anaconda3/envs/tap/lib/python3.10/site-packages (from thinc<8.3.0,>=8.2.2->spacy) (0.7.11)\n",
      "Requirement already satisfied: click>=8.0.0 in /Applications/anaconda3/envs/tap/lib/python3.10/site-packages (from typer<1.0.0,>=0.3.0->spacy) (8.1.7)\n",
      "Requirement already satisfied: shellingham>=1.3.0 in /Applications/anaconda3/envs/tap/lib/python3.10/site-packages (from typer<1.0.0,>=0.3.0->spacy) (1.5.4)\n",
      "Requirement already satisfied: rich>=10.11.0 in /Applications/anaconda3/envs/tap/lib/python3.10/site-packages (from typer<1.0.0,>=0.3.0->spacy) (13.7.1)\n",
      "Requirement already satisfied: cloudpathlib<1.0.0,>=0.7.0 in /Applications/anaconda3/envs/tap/lib/python3.10/site-packages (from weasel<0.5.0,>=0.1.0->spacy) (0.18.1)\n",
      "Requirement already satisfied: smart-open<8.0.0,>=5.2.1 in /Applications/anaconda3/envs/tap/lib/python3.10/site-packages (from weasel<0.5.0,>=0.1.0->spacy) (7.0.4)\n",
      "Requirement already satisfied: MarkupSafe>=2.0 in /Applications/anaconda3/envs/tap/lib/python3.10/site-packages (from jinja2->spacy) (2.1.5)\n",
      "Requirement already satisfied: contourpy>=1.0.1 in /Applications/anaconda3/envs/tap/lib/python3.10/site-packages (from matplotlib->gliner-spacy) (1.2.1)\n",
      "Requirement already satisfied: cycler>=0.10 in /Applications/anaconda3/envs/tap/lib/python3.10/site-packages (from matplotlib->gliner-spacy) (0.12.1)\n",
      "Requirement already satisfied: fonttools>=4.22.0 in /Applications/anaconda3/envs/tap/lib/python3.10/site-packages (from matplotlib->gliner-spacy) (4.53.1)\n",
      "Requirement already satisfied: kiwisolver>=1.3.1 in /Applications/anaconda3/envs/tap/lib/python3.10/site-packages (from matplotlib->gliner-spacy) (1.4.5)\n",
      "Requirement already satisfied: pillow>=8 in /Applications/anaconda3/envs/tap/lib/python3.10/site-packages (from matplotlib->gliner-spacy) (10.4.0)\n",
      "Requirement already satisfied: pyparsing>=2.3.1 in /Applications/anaconda3/envs/tap/lib/python3.10/site-packages (from matplotlib->gliner-spacy) (3.1.2)\n",
      "Requirement already satisfied: python-dateutil>=2.7 in /Applications/anaconda3/envs/tap/lib/python3.10/site-packages (from matplotlib->gliner-spacy) (2.9.0)\n",
      "Requirement already satisfied: pandas>=1.2 in /Applications/anaconda3/envs/tap/lib/python3.10/site-packages (from seaborn->gliner-spacy) (2.2.2)\n",
      "Requirement already satisfied: filelock in /Applications/anaconda3/envs/tap/lib/python3.10/site-packages (from huggingface-hub>=0.21.4->gliner>=0.2.0->gliner-spacy) (3.15.4)\n",
      "Requirement already satisfied: fsspec>=2023.5.0 in /Applications/anaconda3/envs/tap/lib/python3.10/site-packages (from huggingface-hub>=0.21.4->gliner>=0.2.0->gliner-spacy) (2024.6.1)\n",
      "Requirement already satisfied: pyyaml>=5.1 in /Applications/anaconda3/envs/tap/lib/python3.10/site-packages (from huggingface-hub>=0.21.4->gliner>=0.2.0->gliner-spacy) (6.0.1)\n",
      "Requirement already satisfied: marisa-trie>=0.7.7 in /Applications/anaconda3/envs/tap/lib/python3.10/site-packages (from language-data>=1.2->langcodes<4.0.0,>=3.2.0->spacy) (1.2.0)\n",
      "Requirement already satisfied: pytz>=2020.1 in /Applications/anaconda3/envs/tap/lib/python3.10/site-packages (from pandas>=1.2->seaborn->gliner-spacy) (2024.1)\n",
      "Requirement already satisfied: tzdata>=2022.7 in /Applications/anaconda3/envs/tap/lib/python3.10/site-packages (from pandas>=1.2->seaborn->gliner-spacy) (2024.1)\n",
      "Requirement already satisfied: six>=1.5 in /Applications/anaconda3/envs/tap/lib/python3.10/site-packages (from python-dateutil>=2.7->matplotlib->gliner-spacy) (1.16.0)\n",
      "Requirement already satisfied: markdown-it-py>=2.2.0 in /Applications/anaconda3/envs/tap/lib/python3.10/site-packages (from rich>=10.11.0->typer<1.0.0,>=0.3.0->spacy) (3.0.0)\n",
      "Requirement already satisfied: pygments<3.0.0,>=2.13.0 in /Applications/anaconda3/envs/tap/lib/python3.10/site-packages (from rich>=10.11.0->typer<1.0.0,>=0.3.0->spacy) (2.18.0)\n",
      "Requirement already satisfied: wrapt in /Applications/anaconda3/envs/tap/lib/python3.10/site-packages (from smart-open<8.0.0,>=5.2.1->weasel<0.5.0,>=0.1.0->spacy) (1.16.0)\n",
      "Requirement already satisfied: sympy in /Applications/anaconda3/envs/tap/lib/python3.10/site-packages (from torch>=2.0.0->gliner>=0.2.0->gliner-spacy) (1.13.0)\n",
      "Requirement already satisfied: networkx in /Applications/anaconda3/envs/tap/lib/python3.10/site-packages (from torch>=2.0.0->gliner>=0.2.0->gliner-spacy) (3.3)\n",
      "Requirement already satisfied: regex!=2019.12.17 in /Applications/anaconda3/envs/tap/lib/python3.10/site-packages (from transformers>=4.38.2->gliner>=0.2.0->gliner-spacy) (2024.5.15)\n",
      "Requirement already satisfied: safetensors>=0.4.1 in /Applications/anaconda3/envs/tap/lib/python3.10/site-packages (from transformers>=4.38.2->gliner>=0.2.0->gliner-spacy) (0.4.3)\n",
      "Requirement already satisfied: tokenizers<0.20,>=0.19 in /Applications/anaconda3/envs/tap/lib/python3.10/site-packages (from transformers>=4.38.2->gliner>=0.2.0->gliner-spacy) (0.19.1)\n",
      "Collecting coloredlogs (from onnxruntime->gliner>=0.2.0->gliner-spacy)\n",
      "  Downloading coloredlogs-15.0.1-py2.py3-none-any.whl.metadata (12 kB)\n",
      "Collecting flatbuffers (from onnxruntime->gliner>=0.2.0->gliner-spacy)\n",
      "  Downloading flatbuffers-24.3.25-py2.py3-none-any.whl.metadata (850 bytes)\n",
      "Collecting protobuf (from onnxruntime->gliner>=0.2.0->gliner-spacy)\n",
      "  Using cached protobuf-5.27.2-cp38-abi3-macosx_10_9_universal2.whl.metadata (592 bytes)\n",
      "Requirement already satisfied: mdurl~=0.1 in /Applications/anaconda3/envs/tap/lib/python3.10/site-packages (from markdown-it-py>=2.2.0->rich>=10.11.0->typer<1.0.0,>=0.3.0->spacy) (0.1.2)\n",
      "Collecting humanfriendly>=9.1 (from coloredlogs->onnxruntime->gliner>=0.2.0->gliner-spacy)\n",
      "  Downloading humanfriendly-10.0-py2.py3-none-any.whl.metadata (9.2 kB)\n",
      "Requirement already satisfied: mpmath<1.4,>=1.1.0 in /Applications/anaconda3/envs/tap/lib/python3.10/site-packages (from sympy->torch>=2.0.0->gliner>=0.2.0->gliner-spacy) (1.3.0)\n",
      "Downloading gliner_spacy-0.0.10-py3-none-any.whl (6.6 kB)\n",
      "Downloading gliner-0.2.8-py3-none-any.whl (42 kB)\n",
      "\u001b[2K   \u001b[90m━━━━━━━━━━━━━━━━━━━━━━━━━━━━━━━━━━━━━━━━\u001b[0m \u001b[32m42.1/42.1 kB\u001b[0m \u001b[31m2.0 MB/s\u001b[0m eta \u001b[36m0:00:00\u001b[0m\n",
      "\u001b[?25hDownloading onnxruntime-1.18.1-cp310-cp310-macosx_11_0_universal2.whl (15.9 MB)\n",
      "\u001b[2K   \u001b[90m━━━━━━━━━━━━━━━━━━━━━━━━━━━━━━━━━━━━━━━━\u001b[0m \u001b[32m15.9/15.9 MB\u001b[0m \u001b[31m30.8 MB/s\u001b[0m eta \u001b[36m0:00:00\u001b[0m00:01\u001b[0m00:01\u001b[0m\n",
      "\u001b[?25hUsing cached sentencepiece-0.2.0-cp310-cp310-macosx_11_0_arm64.whl (1.2 MB)\n",
      "Downloading coloredlogs-15.0.1-py2.py3-none-any.whl (46 kB)\n",
      "\u001b[2K   \u001b[90m━━━━━━━━━━━━━━━━━━━━━━━━━━━━━━━━━━━━━━━━\u001b[0m \u001b[32m46.0/46.0 kB\u001b[0m \u001b[31m5.1 MB/s\u001b[0m eta \u001b[36m0:00:00\u001b[0m\n",
      "\u001b[?25hDownloading flatbuffers-24.3.25-py2.py3-none-any.whl (26 kB)\n",
      "Using cached protobuf-5.27.2-cp38-abi3-macosx_10_9_universal2.whl (412 kB)\n",
      "Downloading humanfriendly-10.0-py2.py3-none-any.whl (86 kB)\n",
      "\u001b[2K   \u001b[90m━━━━━━━━━━━━━━━━━━━━━━━━━━━━━━━━━━━━━━━━\u001b[0m \u001b[32m86.8/86.8 kB\u001b[0m \u001b[31m9.1 MB/s\u001b[0m eta \u001b[36m0:00:00\u001b[0m\n",
      "\u001b[?25hInstalling collected packages: sentencepiece, flatbuffers, protobuf, humanfriendly, coloredlogs, onnxruntime, gliner, gliner-spacy\n",
      "Successfully installed coloredlogs-15.0.1 flatbuffers-24.3.25 gliner-0.2.8 gliner-spacy-0.0.10 humanfriendly-10.0 onnxruntime-1.18.1 protobuf-5.27.2 sentencepiece-0.2.0\n"
     ]
    }
   ],
   "source": [
    "### Install Libraries ###\n",
    "\n",
    "# Using !pip installs\n",
    "!pip install spacy spacy-llm gliner-spacy"
   ]
  },
  {
   "cell_type": "code",
   "execution_count": null,
   "id": "54e16e47",
   "metadata": {},
   "outputs": [],
   "source": [
    "!python -m download en_core_web_sm"
   ]
  },
  {
   "cell_type": "code",
   "execution_count": 1,
   "id": "5480e2a8",
   "metadata": {},
   "outputs": [],
   "source": [
    "import os\n",
    "# uncomment this out if you are using a Mac. This is a bug and with spacy-llm and pytorch on a Mac and this resolves it for now.\n",
    "# os.environ[\"PYTORCH_ENABLE_MPS_FALLBACK\"] = \"1\"\n",
    "os.environ[\"OPENAI_API_KEY\"] = \"\"\n",
    "import spacy\n",
    "from spacy_llm.util import assemble\n",
    "from spacy import displacy"
   ]
  },
  {
   "cell_type": "markdown",
   "id": "f53edaa2",
   "metadata": {},
   "source": [
    "# Introduction\n",
    "\n",
    "In the last notebook, we saw the benefits of using a Large Language Model in a spaCy pipeline. We were able to detect things that were not only out-of-scope contextually for spaCy models, but we were able to pass in our own labels entirely! In this notebook, we will learn a few new tricks.\n",
    "\n",
    "# GLiNER\n",
    "\n",
    "We will begin by learning about a separate library called `gliner-spacy` (full-disclosure, I wrote this package). GLiNER spaCy is built on top of [GLiNER](https://github.com/urchade/GLiNER) and spaCy. GLiNER allows for you to perform zero-shot token classification. This means you can use it to perform NER, part-of-speech tagging, even relationship extraction (more on this below)! Instead of training a model, you can pass a text and a collection of labels to the model and it will handle everything for you.\n",
    "\n",
    "GLiNER by itself does not align within a spaCy pipeline. `gliner-spacy` resolves this issue by handling chunking, device mapping (important if you are using a GPU), and token alignment for you. This means that you can install `gliner-spacy`. It even has its own entry point, so you don't even have to import it in your code to use it.\n",
    "\n",
    "You can install it with pip:\n",
    "\n",
    "```bash\n",
    "pip install gliner-spacy\n",
    "```\n",
    "\n",
    "Once installed, you can import spaCy as normal, and simply add `gliner_spacy` into your pipeline. A good way to do this is to disable the original `ner`. We can do this by passing an argument, `disable`, a list of pipes to disable. We will disable `ner`."
   ]
  },
  {
   "cell_type": "code",
   "execution_count": 2,
   "id": "115dff7d",
   "metadata": {},
   "outputs": [
    {
     "data": {
      "application/vnd.jupyter.widget-view+json": {
       "model_id": "c39d05b1974442918ab1bf68ea787927",
       "version_major": 2,
       "version_minor": 0
      },
      "text/plain": [
       "Fetching 4 files:   0%|          | 0/4 [00:00<?, ?it/s]"
      ]
     },
     "metadata": {},
     "output_type": "display_data"
    },
    {
     "data": {
      "application/vnd.jupyter.widget-view+json": {
       "model_id": "aab9c2ee3cd74e89882ff84dd339bdc0",
       "version_major": 2,
       "version_minor": 0
      },
      "text/plain": [
       ".gitattributes:   0%|          | 0.00/1.57k [00:00<?, ?B/s]"
      ]
     },
     "metadata": {},
     "output_type": "display_data"
    },
    {
     "data": {
      "application/vnd.jupyter.widget-view+json": {
       "model_id": "7771494ca0c04a2ea0fd954b204d93c9",
       "version_major": 2,
       "version_minor": 0
      },
      "text/plain": [
       "README.md:   0%|          | 0.00/4.78k [00:00<?, ?B/s]"
      ]
     },
     "metadata": {},
     "output_type": "display_data"
    },
    {
     "name": "stderr",
     "output_type": "stream",
     "text": [
      "/Applications/anaconda3/envs/tap/lib/python3.10/site-packages/transformers/convert_slow_tokenizer.py:562: UserWarning: The sentencepiece tokenizer that you are converting to a fast tokenizer uses the byte fallback option which is not implemented in the fast tokenizers. In practice this means that the fast version of the tokenizer can produce unknown tokens whereas the sentencepiece version would have converted these unknown tokens into a sequence of byte tokens matching the original piece of text.\n",
      "  warnings.warn(\n"
     ]
    },
    {
     "data": {
      "text/plain": [
       "<gliner_spacy.pipeline.GlinerSpacy at 0x176909e70>"
      ]
     },
     "execution_count": 2,
     "metadata": {},
     "output_type": "execute_result"
    }
   ],
   "source": [
    "nlp = spacy.load(\"en_core_web_sm\", disable=[\"ner\"])\n",
    "nlp.add_pipe(\"gliner_spacy\")"
   ]
  },
  {
   "cell_type": "markdown",
   "id": "8aaabb66",
   "metadata": {},
   "source": [
    "Now, that we have the pipeline created, let's run it over a text!"
   ]
  },
  {
   "cell_type": "code",
   "execution_count": 7,
   "id": "2c141bb3",
   "metadata": {},
   "outputs": [
    {
     "data": {
      "text/html": [
       "<span class=\"tex2jax_ignore\"><div class=\"entities\" style=\"line-height: 2.5; direction: ltr\">Program Hodle Chrlstus Notus Est \n",
       "<mark class=\"entity\" style=\"background: #a8d5e2; padding: 0.45em 0.6em; margin: 0 0.25em; line-height: 1; border-radius: 0.35em;\">\n",
       "    Jan Peterszoon Sweellnck\n",
       "    <span style=\"font-size: 0.8em; font-weight: bold; line-height: 1; border-radius: 0.35em; vertical-align: middle; margin-left: 0.5rem\">COMPOSER</span>\n",
       "</mark>\n",
       " Sung in Latin 1562 -1621 Today Christ is born Today the Saviour hos appeared On earth the angels sing the archangels rejoice and the righteous ore glad saying `` Glory to God in the highest Noell Alleluia/ '' \n",
       "<mark class=\"entity\" style=\"background: #a8d5e2; padding: 0.45em 0.6em; margin: 0 0.25em; line-height: 1; border-radius: 0.35em;\">\n",
       "    Rorate Coen\n",
       "    <span style=\"font-size: 0.8em; font-weight: bold; line-height: 1; border-radius: 0.35em; vertical-align: middle; margin-left: 0.5rem\">COMPOSER</span>\n",
       "</mark>\n",
       " \n",
       "<mark class=\"entity\" style=\"background: #a8d5e2; padding: 0.45em 0.6em; margin: 0 0.25em; line-height: 1; border-radius: 0.35em;\">\n",
       "    Giovanni Perlulgl\n",
       "    <span style=\"font-size: 0.8em; font-weight: bold; line-height: 1; border-radius: 0.35em; vertical-align: middle; margin-left: 0.5rem\">COMPOSER</span>\n",
       "</mark>\n",
       " do \n",
       "<mark class=\"entity\" style=\"background: #a8d5e2; padding: 0.45em 0.6em; margin: 0 0.25em; line-height: 1; border-radius: 0.35em;\">\n",
       "    Palestrina\n",
       "    <span style=\"font-size: 0.8em; font-weight: bold; line-height: 1; border-radius: 0.35em; vertical-align: middle; margin-left: 0.5rem\">COMPOSER</span>\n",
       "</mark>\n",
       " Sung in Latin 1525 -1594 Pour out dew from above you heavens and let the clouds rain down the Just One Let the earth open and bring forth a saviour Show us your mercy 0 Lord and grant us your salvation Come 0 Lord and do not delay Alleluia ! Allelulal Ascendlt Deus WIiiiam \n",
       "<mark class=\"entity\" style=\"background: #a8d5e2; padding: 0.45em 0.6em; margin: 0 0.25em; line-height: 1; border-radius: 0.35em;\">\n",
       "    Byrd\n",
       "    <span style=\"font-size: 0.8em; font-weight: bold; line-height: 1; border-radius: 0.35em; vertical-align: middle; margin-left: 0.5rem\">COMPOSER</span>\n",
       "</mark>\n",
       " Sung in Latin 1543 -1623 Alleluia ! God hos ascended in jubilation and \n",
       "<mark class=\"entity\" style=\"background: #a8d5e2; padding: 0.45em 0.6em; margin: 0 0.25em; line-height: 1; border-radius: 0.35em;\">\n",
       "    Christ\n",
       "    <span style=\"font-size: 0.8em; font-weight: bold; line-height: 1; border-radius: 0.35em; vertical-align: middle; margin-left: 0.5rem\">COMPOSER</span>\n",
       "</mark>\n",
       " the Lord with the sound of the trumpets Alleluia/ II Nunc Dfmlttls Christian \n",
       "<mark class=\"entity\" style=\"background: #a8d5e2; padding: 0.45em 0.6em; margin: 0 0.25em; line-height: 1; border-radius: 0.35em;\">\n",
       "    Figueroa\n",
       "    <span style=\"font-size: 0.8em; font-weight: bold; line-height: 1; border-radius: 0.35em; vertical-align: middle; margin-left: 0.5rem\">COMPOSER</span>\n",
       "</mark>\n",
       " tenor The Te Deum of Sandor Slk Ill \n",
       "<mark class=\"entity\" style=\"background: #a8d5e2; padding: 0.45em 0.6em; margin: 0 0.25em; line-height: 1; border-radius: 0.35em;\">\n",
       "    Sergei Rachmaninoff\n",
       "    <span style=\"font-size: 0.8em; font-weight: bold; line-height: 1; border-radius: 0.35em; vertical-align: middle; margin-left: 0.5rem\">COMPOSER</span>\n",
       "</mark>\n",
       " 1873-1943 \n",
       "<mark class=\"entity\" style=\"background: #a8d5e2; padding: 0.45em 0.6em; margin: 0 0.25em; line-height: 1; border-radius: 0.35em;\">\n",
       "    Zoltan Kodaly\n",
       "    <span style=\"font-size: 0.8em; font-weight: bold; line-height: 1; border-radius: 0.35em; vertical-align: middle; margin-left: 0.5rem\">COMPOSER</span>\n",
       "</mark>\n",
       " 1882 -1967 Motet `` Lobet den Herrn alle Heiden '' \n",
       "<mark class=\"entity\" style=\"background: #a8d5e2; padding: 0.45em 0.6em; margin: 0 0.25em; line-height: 1; border-radius: 0.35em;\">\n",
       "    J. S. Bach\n",
       "    <span style=\"font-size: 0.8em; font-weight: bold; line-height: 1; border-radius: 0.35em; vertical-align: middle; margin-left: 0.5rem\">COMPOSER</span>\n",
       "</mark>\n",
       " Sung in German 1685 -1750 Praise the Lord all ye notions praise him all ye people For his mercy and truth watch over us for evermore Alleluia/ -intermission -<br></div></span>"
      ],
      "text/plain": [
       "<IPython.core.display.HTML object>"
      ]
     },
     "metadata": {},
     "output_type": "display_data"
    }
   ],
   "source": [
    "composer_text = \"\"\"Program Hodle Chrlstus Notus Est Jan Peterszoon Sweellnck Sung in Latin 1562 -1621 Today Christ is born Today the Saviour hos appeared On earth the angels sing the archangels rejoice and the righteous ore glad saying `` Glory to God in the highest Noell Alleluia/ '' Rorate Coen Giovanni Perlulgl do Palestrina Sung in Latin 1525 -1594 Pour out dew from above you heavens and let the clouds rain down the Just One Let the earth open and bring forth a saviour Show us your mercy 0 Lord and grant us your salvation Come 0 Lord and do not delay Alleluia ! Allelulal Ascendlt Deus WIiiiam Byrd Sung in Latin 1543 -1623 Alleluia ! God hos ascended in jubilation and Christ the Lord with the sound of the trumpets Alleluia/ II Nunc Dfmlttls Christian Figueroa tenor The Te Deum of Sandor Slk Ill Sergei Rachmaninoff 1873-1943 Zoltan Kodaly 1882 -1967 Motet `` Lobet den Herrn alle Heiden '' J. S. Bach Sung in German 1685 -1750 Praise the Lord all ye notions praise him all ye people For his mercy and truth watch over us for evermore Alleluia/ -intermission -\n",
    "\"\"\"\n",
    "\n",
    "colors = {\n",
    "    \"COMPOSER\": \"#a8d5e2\",      # Light blue\n",
    "    \"COMPOSITION\": \"#c2e8c4\",   # Light green\n",
    "    \"DATE_RANGE\": \"#f9c2c2\",    # Light red\n",
    "    \"LANGUAGE\": \"#f7e1a1\",       # Light yellow\n",
    "    \"RIVER\": \"#f7e1a1\",\n",
    "    \"LOCATION\": \"#a8d5e2\",      # Light blue\n",
    "    \"GROUP\": \"#f9c2c2\",    # Light red\n",
    "}\n",
    "\n",
    "\n",
    "options={\"colors\":colors}\n",
    "options[\"spans_key\"] = \"sc\"\n",
    "\n",
    "doc = nlp(composer_text)\n",
    "displacy.render(doc, style=\"ent\", options=options)"
   ]
  },
  {
   "cell_type": "markdown",
   "id": "09a92334",
   "metadata": {},
   "source": [
    "This is our output. I wouldn't call this the best output.There are some clear errors, such as `Christ` being labeled as a person. While technically this is correct, I'd rather see this identified as part of the `lyrics` of the song. One of the things we can do, is we can create a custom config and pass in a custom set of labels to the model, just like we did with `spacy-llm`!"
   ]
  },
  {
   "cell_type": "code",
   "execution_count": 5,
   "id": "80898c2c",
   "metadata": {},
   "outputs": [
    {
     "data": {
      "application/vnd.jupyter.widget-view+json": {
       "model_id": "c5b08e241bf241b89fd3c83f88f20cda",
       "version_major": 2,
       "version_minor": 0
      },
      "text/plain": [
       "Fetching 4 files:   0%|          | 0/4 [00:00<?, ?it/s]"
      ]
     },
     "metadata": {},
     "output_type": "display_data"
    },
    {
     "data": {
      "application/vnd.jupyter.widget-view+json": {
       "model_id": "fd16c3b63c2e458b96418aaf1dbd62e0",
       "version_major": 2,
       "version_minor": 0
      },
      "text/plain": [
       "gliner_config.json:   0%|          | 0.00/734 [00:00<?, ?B/s]"
      ]
     },
     "metadata": {},
     "output_type": "display_data"
    },
    {
     "data": {
      "application/vnd.jupyter.widget-view+json": {
       "model_id": "e078b4ec60d2434eae3e6dd94d29a373",
       "version_major": 2,
       "version_minor": 0
      },
      "text/plain": [
       "README.md:   0%|          | 0.00/5.52k [00:00<?, ?B/s]"
      ]
     },
     "metadata": {},
     "output_type": "display_data"
    },
    {
     "data": {
      "application/vnd.jupyter.widget-view+json": {
       "model_id": "05b812dc0138412d9e820eb04ef8892a",
       "version_major": 2,
       "version_minor": 0
      },
      "text/plain": [
       ".gitattributes:   0%|          | 0.00/153 [00:00<?, ?B/s]"
      ]
     },
     "metadata": {},
     "output_type": "display_data"
    },
    {
     "data": {
      "application/vnd.jupyter.widget-view+json": {
       "model_id": "7466ca1f7a4f49f4b28200e99c87f409",
       "version_major": 2,
       "version_minor": 0
      },
      "text/plain": [
       "pytorch_model.bin:   0%|          | 0.00/1.17G [00:00<?, ?B/s]"
      ]
     },
     "metadata": {},
     "output_type": "display_data"
    },
    {
     "name": "stderr",
     "output_type": "stream",
     "text": [
      "/Applications/anaconda3/envs/tap/lib/python3.10/site-packages/transformers/convert_slow_tokenizer.py:562: UserWarning: The sentencepiece tokenizer that you are converting to a fast tokenizer uses the byte fallback option which is not implemented in the fast tokenizers. In practice this means that the fast version of the tokenizer can produce unknown tokens whereas the sentencepiece version would have converted these unknown tokens into a sequence of byte tokens matching the original piece of text.\n",
      "  warnings.warn(\n",
      "Asking to truncate to max_length but no maximum length is provided and the model has no predefined maximum length. Default to no truncation.\n"
     ]
    },
    {
     "data": {
      "text/html": [
       "<span class=\"tex2jax_ignore\"><div class=\"entities\" style=\"line-height: 2.5; direction: ltr\">Program Hodle Chrlstus Notus Est \n",
       "<mark class=\"entity\" style=\"background: #a8d5e2; padding: 0.45em 0.6em; margin: 0 0.25em; line-height: 1; border-radius: 0.35em;\">\n",
       "    Jan Peterszoon Sweellnck\n",
       "    <span style=\"font-size: 0.8em; font-weight: bold; line-height: 1; border-radius: 0.35em; vertical-align: middle; margin-left: 0.5rem\">COMPOSER</span>\n",
       "</mark>\n",
       " Sung in Latin 1562 -1621 Today Christ is born Today the Saviour hos appeared On earth the angels sing the archangels rejoice and the righteous ore glad saying `` Glory to God in the highest Noell Alleluia/ '' \n",
       "<mark class=\"entity\" style=\"background: #a8d5e2; padding: 0.45em 0.6em; margin: 0 0.25em; line-height: 1; border-radius: 0.35em;\">\n",
       "    Rorate Coen\n",
       "    <span style=\"font-size: 0.8em; font-weight: bold; line-height: 1; border-radius: 0.35em; vertical-align: middle; margin-left: 0.5rem\">COMPOSER</span>\n",
       "</mark>\n",
       " \n",
       "<mark class=\"entity\" style=\"background: #a8d5e2; padding: 0.45em 0.6em; margin: 0 0.25em; line-height: 1; border-radius: 0.35em;\">\n",
       "    Giovanni Perlulgl\n",
       "    <span style=\"font-size: 0.8em; font-weight: bold; line-height: 1; border-radius: 0.35em; vertical-align: middle; margin-left: 0.5rem\">COMPOSER</span>\n",
       "</mark>\n",
       " do \n",
       "<mark class=\"entity\" style=\"background: #a8d5e2; padding: 0.45em 0.6em; margin: 0 0.25em; line-height: 1; border-radius: 0.35em;\">\n",
       "    Palestrina\n",
       "    <span style=\"font-size: 0.8em; font-weight: bold; line-height: 1; border-radius: 0.35em; vertical-align: middle; margin-left: 0.5rem\">COMPOSER</span>\n",
       "</mark>\n",
       " Sung in Latin 1525 -1594 Pour out dew from above you heavens and let the clouds rain down the Just One Let the earth open and bring forth a saviour Show us your mercy 0 Lord and grant us your salvation Come 0 Lord and do not delay Alleluia ! Allelulal Ascendlt Deus WIiiiam \n",
       "<mark class=\"entity\" style=\"background: #a8d5e2; padding: 0.45em 0.6em; margin: 0 0.25em; line-height: 1; border-radius: 0.35em;\">\n",
       "    Byrd\n",
       "    <span style=\"font-size: 0.8em; font-weight: bold; line-height: 1; border-radius: 0.35em; vertical-align: middle; margin-left: 0.5rem\">COMPOSER</span>\n",
       "</mark>\n",
       " Sung in Latin 1543 -1623 Alleluia ! God hos ascended in jubilation and \n",
       "<mark class=\"entity\" style=\"background: #a8d5e2; padding: 0.45em 0.6em; margin: 0 0.25em; line-height: 1; border-radius: 0.35em;\">\n",
       "    Christ\n",
       "    <span style=\"font-size: 0.8em; font-weight: bold; line-height: 1; border-radius: 0.35em; vertical-align: middle; margin-left: 0.5rem\">COMPOSER</span>\n",
       "</mark>\n",
       " the Lord with the sound of the trumpets Alleluia/ II Nunc Dfmlttls Christian \n",
       "<mark class=\"entity\" style=\"background: #a8d5e2; padding: 0.45em 0.6em; margin: 0 0.25em; line-height: 1; border-radius: 0.35em;\">\n",
       "    Figueroa\n",
       "    <span style=\"font-size: 0.8em; font-weight: bold; line-height: 1; border-radius: 0.35em; vertical-align: middle; margin-left: 0.5rem\">COMPOSER</span>\n",
       "</mark>\n",
       " tenor The Te Deum of Sandor Slk Ill \n",
       "<mark class=\"entity\" style=\"background: #a8d5e2; padding: 0.45em 0.6em; margin: 0 0.25em; line-height: 1; border-radius: 0.35em;\">\n",
       "    Sergei Rachmaninoff\n",
       "    <span style=\"font-size: 0.8em; font-weight: bold; line-height: 1; border-radius: 0.35em; vertical-align: middle; margin-left: 0.5rem\">COMPOSER</span>\n",
       "</mark>\n",
       " 1873-1943 \n",
       "<mark class=\"entity\" style=\"background: #a8d5e2; padding: 0.45em 0.6em; margin: 0 0.25em; line-height: 1; border-radius: 0.35em;\">\n",
       "    Zoltan Kodaly\n",
       "    <span style=\"font-size: 0.8em; font-weight: bold; line-height: 1; border-radius: 0.35em; vertical-align: middle; margin-left: 0.5rem\">COMPOSER</span>\n",
       "</mark>\n",
       " 1882 -1967 Motet `` Lobet den Herrn alle Heiden '' \n",
       "<mark class=\"entity\" style=\"background: #a8d5e2; padding: 0.45em 0.6em; margin: 0 0.25em; line-height: 1; border-radius: 0.35em;\">\n",
       "    J. S. Bach\n",
       "    <span style=\"font-size: 0.8em; font-weight: bold; line-height: 1; border-radius: 0.35em; vertical-align: middle; margin-left: 0.5rem\">COMPOSER</span>\n",
       "</mark>\n",
       " Sung in German 1685 -1750 Praise the Lord all ye notions praise him all ye people For his mercy and truth watch over us for evermore Alleluia/ -intermission -<br></div></span>"
      ],
      "text/plain": [
       "<IPython.core.display.HTML object>"
      ]
     },
     "metadata": {},
     "output_type": "display_data"
    }
   ],
   "source": [
    "custom_spacy_config = { \"gliner_model\": \"urchade/gliner_multi\",\n",
    "                            \"chunk_size\": 250,\n",
    "                            \"labels\": [\"COMPOSER\"],\n",
    "                            \"style\": \"ent\"}\n",
    "\n",
    "nlp = spacy.load(\"en_core_web_sm\", disable=[\"ner\"])\n",
    "nlp.add_pipe(\"gliner_spacy\", config=custom_spacy_config)\n",
    "\n",
    "options={\"colors\":colors}\n",
    "options[\"spans_key\"] = \"sc\"\n",
    "\n",
    "doc = nlp(composer_text)\n",
    "displacy.render(doc, style=\"ent\", options=options)"
   ]
  },
  {
   "cell_type": "markdown",
   "id": "2c716c5f",
   "metadata": {},
   "source": [
    "While these results are not perfect, they are now an improvement. What's the advantage of this approach? It's another zero-shot classification method, but it is entirely local, meaning you do not have to pay to use GPT 3.5 or 4. In many cases, GLiNER is the not only the cheaper option, but the better one. This is especially true if you fine-tune your own model.\n",
    "\n",
    "But GLiNER is not just English, specific! We can use this exact same model to identify entities in other languages. This particular model never saw NER examples for Latin, but does a fairly good job of finding things like PEOPLE, GROUP, and LOCATION!"
   ]
  },
  {
   "cell_type": "code",
   "execution_count": 8,
   "id": "a2fa30d9",
   "metadata": {},
   "outputs": [
    {
     "data": {
      "application/vnd.jupyter.widget-view+json": {
       "model_id": "b7e0dddf64cc4c90b2ee74257f61cdc9",
       "version_major": 2,
       "version_minor": 0
      },
      "text/plain": [
       "Fetching 4 files:   0%|          | 0/4 [00:00<?, ?it/s]"
      ]
     },
     "metadata": {},
     "output_type": "display_data"
    },
    {
     "name": "stderr",
     "output_type": "stream",
     "text": [
      "Asking to truncate to max_length but no maximum length is provided and the model has no predefined maximum length. Default to no truncation.\n"
     ]
    },
    {
     "data": {
      "text/html": [
       "<span class=\"tex2jax_ignore\"><div class=\"entities\" style=\"line-height: 2.5; direction: ltr\">\n",
       "<mark class=\"entity\" style=\"background: #a8d5e2; padding: 0.45em 0.6em; margin: 0 0.25em; line-height: 1; border-radius: 0.35em;\">\n",
       "    Gallia\n",
       "    <span style=\"font-size: 0.8em; font-weight: bold; line-height: 1; border-radius: 0.35em; vertical-align: middle; margin-left: 0.5rem\">LOCATION</span>\n",
       "</mark>\n",
       " est omnis divisa in partes tres, quarum unam incolunt \n",
       "<mark class=\"entity\" style=\"background: #f9c2c2; padding: 0.45em 0.6em; margin: 0 0.25em; line-height: 1; border-radius: 0.35em;\">\n",
       "    Belgae\n",
       "    <span style=\"font-size: 0.8em; font-weight: bold; line-height: 1; border-radius: 0.35em; vertical-align: middle; margin-left: 0.5rem\">GROUP</span>\n",
       "</mark>\n",
       ", aliam \n",
       "<mark class=\"entity\" style=\"background: #f9c2c2; padding: 0.45em 0.6em; margin: 0 0.25em; line-height: 1; border-radius: 0.35em;\">\n",
       "    Aquitani\n",
       "    <span style=\"font-size: 0.8em; font-weight: bold; line-height: 1; border-radius: 0.35em; vertical-align: middle; margin-left: 0.5rem\">GROUP</span>\n",
       "</mark>\n",
       ", tertiam qui ipsorum lingua \n",
       "<mark class=\"entity\" style=\"background: #f9c2c2; padding: 0.45em 0.6em; margin: 0 0.25em; line-height: 1; border-radius: 0.35em;\">\n",
       "    Celtae\n",
       "    <span style=\"font-size: 0.8em; font-weight: bold; line-height: 1; border-radius: 0.35em; vertical-align: middle; margin-left: 0.5rem\">GROUP</span>\n",
       "</mark>\n",
       ", nostra \n",
       "<mark class=\"entity\" style=\"background: #f9c2c2; padding: 0.45em 0.6em; margin: 0 0.25em; line-height: 1; border-radius: 0.35em;\">\n",
       "    Galli\n",
       "    <span style=\"font-size: 0.8em; font-weight: bold; line-height: 1; border-radius: 0.35em; vertical-align: middle; margin-left: 0.5rem\">GROUP</span>\n",
       "</mark>\n",
       " appellantur. Hi omnes lingua, institutis, legibus inter se differunt. \n",
       "<mark class=\"entity\" style=\"background: #f9c2c2; padding: 0.45em 0.6em; margin: 0 0.25em; line-height: 1; border-radius: 0.35em;\">\n",
       "    Gallos\n",
       "    <span style=\"font-size: 0.8em; font-weight: bold; line-height: 1; border-radius: 0.35em; vertical-align: middle; margin-left: 0.5rem\">GROUP</span>\n",
       "</mark>\n",
       " ab \n",
       "<mark class=\"entity\" style=\"background: #f9c2c2; padding: 0.45em 0.6em; margin: 0 0.25em; line-height: 1; border-radius: 0.35em;\">\n",
       "    Aquitanis\n",
       "    <span style=\"font-size: 0.8em; font-weight: bold; line-height: 1; border-radius: 0.35em; vertical-align: middle; margin-left: 0.5rem\">GROUP</span>\n",
       "</mark>\n",
       " \n",
       "<mark class=\"entity\" style=\"background: #a8d5e2; padding: 0.45em 0.6em; margin: 0 0.25em; line-height: 1; border-radius: 0.35em;\">\n",
       "    Garumna flumen\n",
       "    <span style=\"font-size: 0.8em; font-weight: bold; line-height: 1; border-radius: 0.35em; vertical-align: middle; margin-left: 0.5rem\">LOCATION</span>\n",
       "</mark>\n",
       ", a \n",
       "<mark class=\"entity\" style=\"background: #f9c2c2; padding: 0.45em 0.6em; margin: 0 0.25em; line-height: 1; border-radius: 0.35em;\">\n",
       "    Belgis\n",
       "    <span style=\"font-size: 0.8em; font-weight: bold; line-height: 1; border-radius: 0.35em; vertical-align: middle; margin-left: 0.5rem\">GROUP</span>\n",
       "</mark>\n",
       " \n",
       "<mark class=\"entity\" style=\"background: #a8d5e2; padding: 0.45em 0.6em; margin: 0 0.25em; line-height: 1; border-radius: 0.35em;\">\n",
       "    Matrona\n",
       "    <span style=\"font-size: 0.8em; font-weight: bold; line-height: 1; border-radius: 0.35em; vertical-align: middle; margin-left: 0.5rem\">LOCATION</span>\n",
       "</mark>\n",
       " et \n",
       "<mark class=\"entity\" style=\"background: #a8d5e2; padding: 0.45em 0.6em; margin: 0 0.25em; line-height: 1; border-radius: 0.35em;\">\n",
       "    Sequana\n",
       "    <span style=\"font-size: 0.8em; font-weight: bold; line-height: 1; border-radius: 0.35em; vertical-align: middle; margin-left: 0.5rem\">LOCATION</span>\n",
       "</mark>\n",
       " dividit.<br></div></span>"
      ],
      "text/plain": [
       "<IPython.core.display.HTML object>"
      ]
     },
     "metadata": {},
     "output_type": "display_data"
    }
   ],
   "source": [
    "latin_text = \"\"\"Gallia est omnis divisa in partes tres, quarum unam incolunt Belgae, aliam Aquitani, tertiam qui ipsorum lingua Celtae, nostra Galli appellantur. Hi omnes lingua, institutis, legibus inter se differunt. Gallos ab Aquitanis Garumna flumen, a Belgis Matrona et Sequana dividit.\n",
    "\"\"\"\n",
    "latin_config = { \"gliner_model\": \"urchade/gliner_multi\",\n",
    "                            \"chunk_size\": 250,\n",
    "                            \"labels\": [\"PERSON\", \"LOCATION\", \"GROUP\"],\n",
    "                            \"style\": \"ent\"}\n",
    "\n",
    "latin_nlp = spacy.load(\"en_core_web_sm\", disable=[\"ner\"])\n",
    "latin_nlp.add_pipe(\"gliner_spacy\", config=latin_config)\n",
    "\n",
    "latin_doc = latin_nlp(latin_text)\n",
    "displacy.render(latin_doc, style=\"ent\", options=options)"
   ]
  },
  {
   "cell_type": "markdown",
   "id": "3eb54827",
   "metadata": {},
   "source": [
    "This is actually a perfect output. For those who can read Latin, you may notice an obvious thing that can be added to this set of labels: RIVER! Garumna, [Matrona (Marne)](https://en.wikipedia.org/wiki/Rivers_of_classical_antiquity), and the [Sequana (Seine)](https://topostext.org/place/494005WSeq) are all rivers. We can add rivers, by simply updating the \"RIVER\" in the labels."
   ]
  },
  {
   "cell_type": "code",
   "execution_count": 9,
   "id": "4414135a",
   "metadata": {},
   "outputs": [
    {
     "data": {
      "application/vnd.jupyter.widget-view+json": {
       "model_id": "33dd8207ee0b45c9b9d3035524e99c3f",
       "version_major": 2,
       "version_minor": 0
      },
      "text/plain": [
       "Fetching 4 files:   0%|          | 0/4 [00:00<?, ?it/s]"
      ]
     },
     "metadata": {},
     "output_type": "display_data"
    },
    {
     "name": "stderr",
     "output_type": "stream",
     "text": [
      "/Applications/anaconda3/envs/tap/lib/python3.10/site-packages/transformers/convert_slow_tokenizer.py:562: UserWarning: The sentencepiece tokenizer that you are converting to a fast tokenizer uses the byte fallback option which is not implemented in the fast tokenizers. In practice this means that the fast version of the tokenizer can produce unknown tokens whereas the sentencepiece version would have converted these unknown tokens into a sequence of byte tokens matching the original piece of text.\n",
      "  warnings.warn(\n",
      "Asking to truncate to max_length but no maximum length is provided and the model has no predefined maximum length. Default to no truncation.\n"
     ]
    },
    {
     "data": {
      "text/html": [
       "<span class=\"tex2jax_ignore\"><div class=\"entities\" style=\"line-height: 2.5; direction: ltr\">\n",
       "<mark class=\"entity\" style=\"background: #a8d5e2; padding: 0.45em 0.6em; margin: 0 0.25em; line-height: 1; border-radius: 0.35em;\">\n",
       "    Gallia\n",
       "    <span style=\"font-size: 0.8em; font-weight: bold; line-height: 1; border-radius: 0.35em; vertical-align: middle; margin-left: 0.5rem\">LOCATION</span>\n",
       "</mark>\n",
       " est omnis divisa in partes tres, quarum unam incolunt \n",
       "<mark class=\"entity\" style=\"background: #f9c2c2; padding: 0.45em 0.6em; margin: 0 0.25em; line-height: 1; border-radius: 0.35em;\">\n",
       "    Belgae\n",
       "    <span style=\"font-size: 0.8em; font-weight: bold; line-height: 1; border-radius: 0.35em; vertical-align: middle; margin-left: 0.5rem\">GROUP</span>\n",
       "</mark>\n",
       ", aliam \n",
       "<mark class=\"entity\" style=\"background: #f9c2c2; padding: 0.45em 0.6em; margin: 0 0.25em; line-height: 1; border-radius: 0.35em;\">\n",
       "    Aquitani\n",
       "    <span style=\"font-size: 0.8em; font-weight: bold; line-height: 1; border-radius: 0.35em; vertical-align: middle; margin-left: 0.5rem\">GROUP</span>\n",
       "</mark>\n",
       ", tertiam qui ipsorum lingua \n",
       "<mark class=\"entity\" style=\"background: #f9c2c2; padding: 0.45em 0.6em; margin: 0 0.25em; line-height: 1; border-radius: 0.35em;\">\n",
       "    Celtae\n",
       "    <span style=\"font-size: 0.8em; font-weight: bold; line-height: 1; border-radius: 0.35em; vertical-align: middle; margin-left: 0.5rem\">GROUP</span>\n",
       "</mark>\n",
       ", nostra \n",
       "<mark class=\"entity\" style=\"background: #f9c2c2; padding: 0.45em 0.6em; margin: 0 0.25em; line-height: 1; border-radius: 0.35em;\">\n",
       "    Galli\n",
       "    <span style=\"font-size: 0.8em; font-weight: bold; line-height: 1; border-radius: 0.35em; vertical-align: middle; margin-left: 0.5rem\">GROUP</span>\n",
       "</mark>\n",
       " appellantur. Hi omnes lingua, institutis, legibus inter se differunt. Gallos ab \n",
       "<mark class=\"entity\" style=\"background: #f9c2c2; padding: 0.45em 0.6em; margin: 0 0.25em; line-height: 1; border-radius: 0.35em;\">\n",
       "    Aquitanis\n",
       "    <span style=\"font-size: 0.8em; font-weight: bold; line-height: 1; border-radius: 0.35em; vertical-align: middle; margin-left: 0.5rem\">GROUP</span>\n",
       "</mark>\n",
       " \n",
       "<mark class=\"entity\" style=\"background: #f7e1a1; padding: 0.45em 0.6em; margin: 0 0.25em; line-height: 1; border-radius: 0.35em;\">\n",
       "    Garumna flumen\n",
       "    <span style=\"font-size: 0.8em; font-weight: bold; line-height: 1; border-radius: 0.35em; vertical-align: middle; margin-left: 0.5rem\">RIVER</span>\n",
       "</mark>\n",
       ", a Belgis \n",
       "<mark class=\"entity\" style=\"background: #a8d5e2; padding: 0.45em 0.6em; margin: 0 0.25em; line-height: 1; border-radius: 0.35em;\">\n",
       "    Matrona\n",
       "    <span style=\"font-size: 0.8em; font-weight: bold; line-height: 1; border-radius: 0.35em; vertical-align: middle; margin-left: 0.5rem\">LOCATION</span>\n",
       "</mark>\n",
       " et \n",
       "<mark class=\"entity\" style=\"background: #a8d5e2; padding: 0.45em 0.6em; margin: 0 0.25em; line-height: 1; border-radius: 0.35em;\">\n",
       "    Sequana\n",
       "    <span style=\"font-size: 0.8em; font-weight: bold; line-height: 1; border-radius: 0.35em; vertical-align: middle; margin-left: 0.5rem\">LOCATION</span>\n",
       "</mark>\n",
       " dividit.<br></div></span>"
      ],
      "text/plain": [
       "<IPython.core.display.HTML object>"
      ]
     },
     "metadata": {},
     "output_type": "display_data"
    }
   ],
   "source": [
    "latin_text = \"\"\"Gallia est omnis divisa in partes tres, quarum unam incolunt Belgae, aliam Aquitani, tertiam qui ipsorum lingua Celtae, nostra Galli appellantur. Hi omnes lingua, institutis, legibus inter se differunt. Gallos ab Aquitanis Garumna flumen, a Belgis Matrona et Sequana dividit.\n",
    "\"\"\"\n",
    "latin_config = { \"gliner_model\": \"urchade/gliner_multi\",\n",
    "                            \"chunk_size\": 250,\n",
    "                            \"labels\": [\"PERSON\", \"LOCATION\", \"GROUP\", \"RIVER\"],\n",
    "                            \"style\": \"ent\"}\n",
    "\n",
    "latin_nlp = spacy.load(\"en_core_web_sm\", disable=[\"ner\"])\n",
    "latin_nlp.add_pipe(\"gliner_spacy\", config=latin_config)\n",
    "\n",
    "latin_doc = latin_nlp(latin_text)\n",
    "displacy.render(latin_doc, style=\"ent\", options=options)"
   ]
  },
  {
   "cell_type": "markdown",
   "id": "d5e3ff2a",
   "metadata": {},
   "source": [
    "While we successfully got Garumna, we missed the other two. Fortunately, we can improve our results by simply targeting a more specific set of labels. Here, we will change our labels to simply `['RVER']`. Notice how much our results improve."
   ]
  },
  {
   "cell_type": "code",
   "execution_count": 12,
   "id": "e77cce1f",
   "metadata": {},
   "outputs": [
    {
     "data": {
      "application/vnd.jupyter.widget-view+json": {
       "model_id": "e9200eb543b04d7db194debafcaaf541",
       "version_major": 2,
       "version_minor": 0
      },
      "text/plain": [
       "Fetching 4 files:   0%|          | 0/4 [00:00<?, ?it/s]"
      ]
     },
     "metadata": {},
     "output_type": "display_data"
    },
    {
     "name": "stderr",
     "output_type": "stream",
     "text": [
      "Asking to truncate to max_length but no maximum length is provided and the model has no predefined maximum length. Default to no truncation.\n"
     ]
    },
    {
     "data": {
      "text/html": [
       "<span class=\"tex2jax_ignore\"><div class=\"entities\" style=\"line-height: 2.5; direction: ltr\">Gallia est omnis divisa in partes tres, quarum unam incolunt Belgae, aliam Aquitani, tertiam qui ipsorum lingua Celtae, nostra Galli appellantur. Hi omnes lingua, institutis, legibus inter se differunt. Gallos ab Aquitanis \n",
       "<mark class=\"entity\" style=\"background: #f7e1a1; padding: 0.45em 0.6em; margin: 0 0.25em; line-height: 1; border-radius: 0.35em;\">\n",
       "    Garumna\n",
       "    <span style=\"font-size: 0.8em; font-weight: bold; line-height: 1; border-radius: 0.35em; vertical-align: middle; margin-left: 0.5rem\">RIVER</span>\n",
       "</mark>\n",
       " flumen, a Belgis \n",
       "<mark class=\"entity\" style=\"background: #f7e1a1; padding: 0.45em 0.6em; margin: 0 0.25em; line-height: 1; border-radius: 0.35em;\">\n",
       "    Matrona\n",
       "    <span style=\"font-size: 0.8em; font-weight: bold; line-height: 1; border-radius: 0.35em; vertical-align: middle; margin-left: 0.5rem\">RIVER</span>\n",
       "</mark>\n",
       " et \n",
       "<mark class=\"entity\" style=\"background: #f7e1a1; padding: 0.45em 0.6em; margin: 0 0.25em; line-height: 1; border-radius: 0.35em;\">\n",
       "    Sequana\n",
       "    <span style=\"font-size: 0.8em; font-weight: bold; line-height: 1; border-radius: 0.35em; vertical-align: middle; margin-left: 0.5rem\">RIVER</span>\n",
       "</mark>\n",
       " dividit.<br></div></span>"
      ],
      "text/plain": [
       "<IPython.core.display.HTML object>"
      ]
     },
     "metadata": {},
     "output_type": "display_data"
    }
   ],
   "source": [
    "latin_text = \"\"\"Gallia est omnis divisa in partes tres, quarum unam incolunt Belgae, aliam Aquitani, tertiam qui ipsorum lingua Celtae, nostra Galli appellantur. Hi omnes lingua, institutis, legibus inter se differunt. Gallos ab Aquitanis Garumna flumen, a Belgis Matrona et Sequana dividit.\n",
    "\"\"\"\n",
    "latin_config = { \"gliner_model\": \"urchade/gliner_multi\",\n",
    "                            \"chunk_size\": 250,\n",
    "                            \"labels\": [\"RIVER\"],\n",
    "                            \"style\": \"ent\"}\n",
    "\n",
    "latin_nlp = spacy.load(\"en_core_web_sm\", disable=[\"ner\"])\n",
    "latin_nlp.add_pipe(\"gliner_spacy\", config=latin_config)\n",
    "\n",
    "latin_doc = latin_nlp(latin_text)\n",
    "displacy.render(latin_doc, style=\"ent\", options=options)"
   ]
  },
  {
   "cell_type": "markdown",
   "id": "2043e9d9",
   "metadata": {},
   "source": [
    "GLiNER is, therefore, potentially a good solution to many zero-shot tasks. If you need to improve the model, fine-tuning is also possible. Fine-tuning GLiNER has two key advantages. First, it can help the model recognize your particular set of labels. This is useful if the model struggles in your domain. Second, it can adjust how annotations are done. For example, Imagine we did not want to identify the `flumen` attached to `Garumna`, we could use a fine-tuned Latin GLiNER model that does not attach qualifiers to the governing entity."
   ]
  },
  {
   "cell_type": "code",
   "execution_count": 14,
   "id": "716b7b65",
   "metadata": {},
   "outputs": [
    {
     "data": {
      "application/vnd.jupyter.widget-view+json": {
       "model_id": "f6cd51a79cb94c78b720dfc1f6c05743",
       "version_major": 2,
       "version_minor": 0
      },
      "text/plain": [
       "Fetching 4 files:   0%|          | 0/4 [00:00<?, ?it/s]"
      ]
     },
     "metadata": {},
     "output_type": "display_data"
    },
    {
     "name": "stderr",
     "output_type": "stream",
     "text": [
      "Asking to truncate to max_length but no maximum length is provided and the model has no predefined maximum length. Default to no truncation.\n"
     ]
    },
    {
     "data": {
      "text/html": [
       "<span class=\"tex2jax_ignore\"><div class=\"entities\" style=\"line-height: 2.5; direction: ltr\">\n",
       "<mark class=\"entity\" style=\"background: #a8d5e2; padding: 0.45em 0.6em; margin: 0 0.25em; line-height: 1; border-radius: 0.35em;\">\n",
       "    Gallia\n",
       "    <span style=\"font-size: 0.8em; font-weight: bold; line-height: 1; border-radius: 0.35em; vertical-align: middle; margin-left: 0.5rem\">LOCATION</span>\n",
       "</mark>\n",
       " est omnis divisa in partes tres, quarum unam incolunt \n",
       "<mark class=\"entity\" style=\"background: #f9c2c2; padding: 0.45em 0.6em; margin: 0 0.25em; line-height: 1; border-radius: 0.35em;\">\n",
       "    Belgae\n",
       "    <span style=\"font-size: 0.8em; font-weight: bold; line-height: 1; border-radius: 0.35em; vertical-align: middle; margin-left: 0.5rem\">GROUP</span>\n",
       "</mark>\n",
       ", aliam \n",
       "<mark class=\"entity\" style=\"background: #f9c2c2; padding: 0.45em 0.6em; margin: 0 0.25em; line-height: 1; border-radius: 0.35em;\">\n",
       "    Aquitani\n",
       "    <span style=\"font-size: 0.8em; font-weight: bold; line-height: 1; border-radius: 0.35em; vertical-align: middle; margin-left: 0.5rem\">GROUP</span>\n",
       "</mark>\n",
       ", tertiam qui ipsorum lingua \n",
       "<mark class=\"entity\" style=\"background: #f9c2c2; padding: 0.45em 0.6em; margin: 0 0.25em; line-height: 1; border-radius: 0.35em;\">\n",
       "    Celtae\n",
       "    <span style=\"font-size: 0.8em; font-weight: bold; line-height: 1; border-radius: 0.35em; vertical-align: middle; margin-left: 0.5rem\">GROUP</span>\n",
       "</mark>\n",
       ", nostra \n",
       "<mark class=\"entity\" style=\"background: #f9c2c2; padding: 0.45em 0.6em; margin: 0 0.25em; line-height: 1; border-radius: 0.35em;\">\n",
       "    Galli\n",
       "    <span style=\"font-size: 0.8em; font-weight: bold; line-height: 1; border-radius: 0.35em; vertical-align: middle; margin-left: 0.5rem\">GROUP</span>\n",
       "</mark>\n",
       " appellantur. Hi omnes lingua, institutis, legibus inter se differunt. \n",
       "<mark class=\"entity\" style=\"background: #f9c2c2; padding: 0.45em 0.6em; margin: 0 0.25em; line-height: 1; border-radius: 0.35em;\">\n",
       "    Gallos\n",
       "    <span style=\"font-size: 0.8em; font-weight: bold; line-height: 1; border-radius: 0.35em; vertical-align: middle; margin-left: 0.5rem\">GROUP</span>\n",
       "</mark>\n",
       " ab \n",
       "<mark class=\"entity\" style=\"background: #f9c2c2; padding: 0.45em 0.6em; margin: 0 0.25em; line-height: 1; border-radius: 0.35em;\">\n",
       "    Aquitanis\n",
       "    <span style=\"font-size: 0.8em; font-weight: bold; line-height: 1; border-radius: 0.35em; vertical-align: middle; margin-left: 0.5rem\">GROUP</span>\n",
       "</mark>\n",
       " \n",
       "<mark class=\"entity\" style=\"background: #a8d5e2; padding: 0.45em 0.6em; margin: 0 0.25em; line-height: 1; border-radius: 0.35em;\">\n",
       "    Garumna\n",
       "    <span style=\"font-size: 0.8em; font-weight: bold; line-height: 1; border-radius: 0.35em; vertical-align: middle; margin-left: 0.5rem\">LOCATION</span>\n",
       "</mark>\n",
       " flumen, a \n",
       "<mark class=\"entity\" style=\"background: #f9c2c2; padding: 0.45em 0.6em; margin: 0 0.25em; line-height: 1; border-radius: 0.35em;\">\n",
       "    Belgis\n",
       "    <span style=\"font-size: 0.8em; font-weight: bold; line-height: 1; border-radius: 0.35em; vertical-align: middle; margin-left: 0.5rem\">GROUP</span>\n",
       "</mark>\n",
       " \n",
       "<mark class=\"entity\" style=\"background: #a8d5e2; padding: 0.45em 0.6em; margin: 0 0.25em; line-height: 1; border-radius: 0.35em;\">\n",
       "    Matrona\n",
       "    <span style=\"font-size: 0.8em; font-weight: bold; line-height: 1; border-radius: 0.35em; vertical-align: middle; margin-left: 0.5rem\">LOCATION</span>\n",
       "</mark>\n",
       " et \n",
       "<mark class=\"entity\" style=\"background: #a8d5e2; padding: 0.45em 0.6em; margin: 0 0.25em; line-height: 1; border-radius: 0.35em;\">\n",
       "    Sequana\n",
       "    <span style=\"font-size: 0.8em; font-weight: bold; line-height: 1; border-radius: 0.35em; vertical-align: middle; margin-left: 0.5rem\">LOCATION</span>\n",
       "</mark>\n",
       " dividit.<br></div></span>"
      ],
      "text/plain": [
       "<IPython.core.display.HTML object>"
      ]
     },
     "metadata": {},
     "output_type": "display_data"
    }
   ],
   "source": [
    "latin_text = \"\"\"Gallia est omnis divisa in partes tres, quarum unam incolunt Belgae, aliam Aquitani, tertiam qui ipsorum lingua Celtae, nostra Galli appellantur. Hi omnes lingua, institutis, legibus inter se differunt. Gallos ab Aquitanis Garumna flumen, a Belgis Matrona et Sequana dividit.\n",
    "\"\"\"\n",
    "latin_config = { \"gliner_model\": \"medieval-data/gliner_multi-v2.1-medieval-latin\",\n",
    "                            \"chunk_size\": 250,\n",
    "                            \"labels\": [\"PERSON\", \"LOCATION\", \"GROUP\", \"RIVER\"],\n",
    "                            \"style\": \"ent\"}\n",
    "\n",
    "latin_nlp = spacy.load(\"en_core_web_sm\", disable=[\"ner\"])\n",
    "latin_nlp.add_pipe(\"gliner_spacy\", config=latin_config)\n",
    "\n",
    "latin_doc = latin_nlp(latin_text)\n",
    "displacy.render(latin_doc, style=\"ent\", options=options)"
   ]
  },
  {
   "cell_type": "markdown",
   "id": "ac825bf5",
   "metadata": {},
   "source": [
    "Notice here that we don't have `Garumna` being flagged as a RIVER, but we have managed to extract the entity in the style that we wanted, that is, without `flumen` attached. This result demonstrates two things. First, it shows how a fine-tuned model adjusts the way it performs annotation. Second, it shows us that it was biased a bit away from RIVER, at least in this context, because it fails to identify correctly any of he three rivers. But again, we can use our RIVER trick to identify just rivers in the text."
   ]
  },
  {
   "cell_type": "code",
   "execution_count": 16,
   "id": "958eca1e",
   "metadata": {},
   "outputs": [
    {
     "data": {
      "application/vnd.jupyter.widget-view+json": {
       "model_id": "cb90a0e4ecc14dada259a82114c43402",
       "version_major": 2,
       "version_minor": 0
      },
      "text/plain": [
       "Fetching 4 files:   0%|          | 0/4 [00:00<?, ?it/s]"
      ]
     },
     "metadata": {},
     "output_type": "display_data"
    },
    {
     "name": "stderr",
     "output_type": "stream",
     "text": [
      "Asking to truncate to max_length but no maximum length is provided and the model has no predefined maximum length. Default to no truncation.\n"
     ]
    },
    {
     "data": {
      "text/html": [
       "<span class=\"tex2jax_ignore\"><div class=\"entities\" style=\"line-height: 2.5; direction: ltr\">Gallia est omnis divisa in partes tres, quarum unam incolunt Belgae, aliam Aquitani, tertiam qui ipsorum lingua Celtae, nostra Galli appellantur. Hi omnes lingua, institutis, legibus inter se differunt. Gallos ab Aquitanis \n",
       "<mark class=\"entity\" style=\"background: #f7e1a1; padding: 0.45em 0.6em; margin: 0 0.25em; line-height: 1; border-radius: 0.35em;\">\n",
       "    Garumna\n",
       "    <span style=\"font-size: 0.8em; font-weight: bold; line-height: 1; border-radius: 0.35em; vertical-align: middle; margin-left: 0.5rem\">RIVER</span>\n",
       "</mark>\n",
       " flumen, a Belgis \n",
       "<mark class=\"entity\" style=\"background: #f7e1a1; padding: 0.45em 0.6em; margin: 0 0.25em; line-height: 1; border-radius: 0.35em;\">\n",
       "    Matrona\n",
       "    <span style=\"font-size: 0.8em; font-weight: bold; line-height: 1; border-radius: 0.35em; vertical-align: middle; margin-left: 0.5rem\">RIVER</span>\n",
       "</mark>\n",
       " et \n",
       "<mark class=\"entity\" style=\"background: #f7e1a1; padding: 0.45em 0.6em; margin: 0 0.25em; line-height: 1; border-radius: 0.35em;\">\n",
       "    Sequana\n",
       "    <span style=\"font-size: 0.8em; font-weight: bold; line-height: 1; border-radius: 0.35em; vertical-align: middle; margin-left: 0.5rem\">RIVER</span>\n",
       "</mark>\n",
       " dividit.<br></div></span>"
      ],
      "text/plain": [
       "<IPython.core.display.HTML object>"
      ]
     },
     "metadata": {},
     "output_type": "display_data"
    }
   ],
   "source": [
    "latin_text = \"\"\"Gallia est omnis divisa in partes tres, quarum unam incolunt Belgae, aliam Aquitani, tertiam qui ipsorum lingua Celtae, nostra Galli appellantur. Hi omnes lingua, institutis, legibus inter se differunt. Gallos ab Aquitanis Garumna flumen, a Belgis Matrona et Sequana dividit.\n",
    "\"\"\"\n",
    "latin_config = { \"gliner_model\": \"medieval-data/gliner_multi-v2.1-medieval-latin\",\n",
    "                            \"chunk_size\": 250,\n",
    "                            \"labels\": [\"RIVER\"],\n",
    "                            \"style\": \"ent\"}\n",
    "\n",
    "latin_nlp = spacy.load(\"en_core_web_sm\", disable=[\"ner\"])\n",
    "latin_nlp.add_pipe(\"gliner_spacy\", config=latin_config)\n",
    "\n",
    "latin_doc = latin_nlp(latin_text)\n",
    "displacy.render(latin_doc, style=\"ent\", options=options)"
   ]
  },
  {
   "cell_type": "markdown",
   "id": "4f176b62",
   "metadata": {},
   "source": [
    "GLiNER isn't just good at zero-shot classification for NER. There are numerous teams working with GLiNER now and they are pushing it to do more complex tasks, such as relationship extraction. In this notebook, we won't be using GLiNER for this, rather `spacy-llm`, but if you want to check out some of these more advanced models, then I recommend following [`Knowledgator`](https://huggingface.co/knowledgator) on HuggingFace!"
   ]
  },
  {
   "cell_type": "markdown",
   "id": "02ac3e23",
   "metadata": {},
   "source": [
    "# spaCy LLM Label Definitions"
   ]
  },
  {
   "cell_type": "markdown",
   "id": "235b6f62",
   "metadata": {},
   "source": [
    "I would like to pivot now back to `spacy-llm` for the remainder of this notebook. The goal here is to give you the configs necessary to begin using `spacy-llm` for more improving outputs and using it for more advanced tasks. We will use it for not only NER in this notebook, but also `text classification` and `relationship extraction`.\n",
    "\n",
    "In the previous notebook, when we tried to identify composer with `GPT-3.5`, it struggled to identify anyone other than `J.S. Bach`. There are a few possibilities as to why this was the case. But the big question is, how can we help improve our chances for identifying other composers with a smaller model. One approach is to provide the model with `label definitions`. We can do this by adding one single thing to our config:\n",
    "\n",
    "```yml\n",
    "[nlp]\n",
    "lang = \"en\"\n",
    "pipeline = [\"llm_ner\"]\n",
    "\n",
    "[components]\n",
    "\n",
    "[components.llm_ner]\n",
    "factory = \"llm\"\n",
    "\n",
    "[components.llm_ner.task]\n",
    "@llm_tasks = \"spacy.NER.v3\"\n",
    "labels = [\"COMPOSER\"]\n",
    "\n",
    "[components.llm_ner.model]\n",
    "@llm_models = \"spacy.GPT-3-5.v3\"\n",
    "config = {\"temperature\": 0.0}\n",
    "\n",
    "[components.llm_ner.task.label_definitions]\n",
    "COMPOSER = \"Extract the name of any one who contextually looks like a composer of music.\"\n",
    "```\n",
    "\n",
    "The main thing that is different here is the final section:\n",
    "\n",
    "```yml\n",
    "[components.llm_ner.task.label_definitions]\n",
    "COMPOSER = \"Extract the name of any one who contextually looks like a composer of music.\"\n",
    "```\n",
    "\n",
    "Here, we are able to set the specific definition for our label. Let's see how it performs!"
   ]
  },
  {
   "cell_type": "code",
   "execution_count": 17,
   "id": "e208d620",
   "metadata": {},
   "outputs": [
    {
     "data": {
      "text/html": [
       "<span class=\"tex2jax_ignore\"><div class=\"entities\" style=\"line-height: 2.5; direction: ltr\">Program Hodle Chrlstus Notus Est Jan Peterszoon Sweellnck Sung in Latin 1562 -1621 Today Christ is born Today the Saviour hos appeared On earth the angels sing the archangels rejoice and the righteous ore glad saying `` Glory to God in the highest Noell Alleluia/ '' Rorate Coen Giovanni Perlulgl do Palestrina Sung in Latin 1525 -1594 Pour out dew from above you heavens and let the clouds rain down the Just One Let the earth open and bring forth a saviour Show us your mercy 0 Lord and grant us your salvation Come 0 Lord and do not delay Alleluia ! Allelulal Ascendlt Deus WIiiiam Byrd Sung in Latin 1543 -1623 Alleluia ! God hos ascended in jubilation and Christ the Lord with the sound of the trumpets Alleluia/ II Nunc Dfmlttls Christian Figueroa tenor The Te Deum of Sandor Slk Ill \n",
       "<mark class=\"entity\" style=\"background: #a8d5e2; padding: 0.45em 0.6em; margin: 0 0.25em; line-height: 1; border-radius: 0.35em;\">\n",
       "    Sergei Rachmaninoff\n",
       "    <span style=\"font-size: 0.8em; font-weight: bold; line-height: 1; border-radius: 0.35em; vertical-align: middle; margin-left: 0.5rem\">COMPOSER</span>\n",
       "</mark>\n",
       " 1873-1943 \n",
       "<mark class=\"entity\" style=\"background: #a8d5e2; padding: 0.45em 0.6em; margin: 0 0.25em; line-height: 1; border-radius: 0.35em;\">\n",
       "    Zoltan Kodaly\n",
       "    <span style=\"font-size: 0.8em; font-weight: bold; line-height: 1; border-radius: 0.35em; vertical-align: middle; margin-left: 0.5rem\">COMPOSER</span>\n",
       "</mark>\n",
       " 1882 -1967 Motet `` Lobet den Herrn alle Heiden '' \n",
       "<mark class=\"entity\" style=\"background: #a8d5e2; padding: 0.45em 0.6em; margin: 0 0.25em; line-height: 1; border-radius: 0.35em;\">\n",
       "    J. S. Bach\n",
       "    <span style=\"font-size: 0.8em; font-weight: bold; line-height: 1; border-radius: 0.35em; vertical-align: middle; margin-left: 0.5rem\">COMPOSER</span>\n",
       "</mark>\n",
       " Sung in German 1685 -1750 Praise the Lord all ye notions praise him all ye people For his mercy and truth watch over us for evermore Alleluia/ -intermission -<br></div></span>"
      ],
      "text/plain": [
       "<IPython.core.display.HTML object>"
      ]
     },
     "metadata": {},
     "output_type": "display_data"
    }
   ],
   "source": [
    "composer_text = \"\"\"Program Hodle Chrlstus Notus Est Jan Peterszoon Sweellnck Sung in Latin 1562 -1621 Today Christ is born Today the Saviour hos appeared On earth the angels sing the archangels rejoice and the righteous ore glad saying `` Glory to God in the highest Noell Alleluia/ '' Rorate Coen Giovanni Perlulgl do Palestrina Sung in Latin 1525 -1594 Pour out dew from above you heavens and let the clouds rain down the Just One Let the earth open and bring forth a saviour Show us your mercy 0 Lord and grant us your salvation Come 0 Lord and do not delay Alleluia ! Allelulal Ascendlt Deus WIiiiam Byrd Sung in Latin 1543 -1623 Alleluia ! God hos ascended in jubilation and Christ the Lord with the sound of the trumpets Alleluia/ II Nunc Dfmlttls Christian Figueroa tenor The Te Deum of Sandor Slk Ill Sergei Rachmaninoff 1873-1943 Zoltan Kodaly 1882 -1967 Motet `` Lobet den Herrn alle Heiden '' J. S. Bach Sung in German 1685 -1750 Praise the Lord all ye notions praise him all ye people For his mercy and truth watch over us for evermore Alleluia/ -intermission -\n",
    "\"\"\"\n",
    "\n",
    "nlp_composer = assemble(\"../assets/openai-ner-composer-v2.cfg\")\n",
    "doc_composer = nlp_composer(composer_text)\n",
    "displacy.render(doc_composer, style=\"ent\", options=options)"
   ]
  },
  {
   "cell_type": "markdown",
   "id": "9de153f9",
   "metadata": {},
   "source": [
    "While our results still aren't perfect, they are a clear improvement from our earlier attempts with GPT-3.5. That's because this definition helps clarify what we mean by `COMPOSER`. This is a useful trick with prompting that helps clarify to the model what we want it to identify. Notice, though, that the results are far from perfect. To do this, we can add in a few new lines to our config:\n",
    "\n",
    "```yml\n",
    "[components.llm_ner.task.examples]\n",
    "@misc = \"spacy.FewShotReader.v1\"\n",
    "path = \"../assets/examples/composer_example.json\"\n",
    "```\n",
    "\n",
    "This specifies where our data sits and how to load it. It will be used to help guide the model. Our data in this file looks like this:\n",
    "\n",
    "```json\n",
    "[\n",
    "    {\n",
    "      \"text\": \"Program Hodie Christus Natus Est Jan Pieterszoon Sweelinck Sung in Latin 1562 -1621 Today Christ is born Today the Saviour has appeared On earth the angels sing the archangels rejoice and the righteous are glad saying `` Glory to God in the highest Noell Alleluia/ ''\",\n",
    "      \"spans\": [\n",
    "        {\n",
    "          \"text\": \"Jan Pieterszoon Sweelinck\",\n",
    "          \"is_entity\": true,\n",
    "          \"label\": \"COMPOSER\",\n",
    "          \"reason\": \"name of the composer for 'Hodie Christus Natus Est'\"\n",
    "        }\n",
    "      ]\n",
    "    },\n",
    "...\n",
    "]\n",
    "```"
   ]
  },
  {
   "cell_type": "code",
   "execution_count": 45,
   "id": "b0fba530",
   "metadata": {},
   "outputs": [
    {
     "data": {
      "text/html": [
       "<span class=\"tex2jax_ignore\"><div class=\"entities\" style=\"line-height: 2.5; direction: ltr\">Program Hodle Chrlstus Notus Est \n",
       "<mark class=\"entity\" style=\"background: #a8d5e2; padding: 0.45em 0.6em; margin: 0 0.25em; line-height: 1; border-radius: 0.35em;\">\n",
       "    Jan Peterszoon Sweellnck\n",
       "    <span style=\"font-size: 0.8em; font-weight: bold; line-height: 1; border-radius: 0.35em; vertical-align: middle; margin-left: 0.5rem\">COMPOSER</span>\n",
       "</mark>\n",
       " Sung in Latin 1562 -1621 Today Christ is born Today the Saviour hos appeared On earth the angels sing the archangels rejoice and the righteous ore glad saying `` Glory to God in the highest Noell Alleluia/ '' Rorate Coen \n",
       "<mark class=\"entity\" style=\"background: #a8d5e2; padding: 0.45em 0.6em; margin: 0 0.25em; line-height: 1; border-radius: 0.35em;\">\n",
       "    Giovanni Perlulgl do Palestrina\n",
       "    <span style=\"font-size: 0.8em; font-weight: bold; line-height: 1; border-radius: 0.35em; vertical-align: middle; margin-left: 0.5rem\">COMPOSER</span>\n",
       "</mark>\n",
       " Sung in Latin 1525 -1594 Pour out dew from above you heavens and let the clouds rain down the Just One Let the earth open and bring forth a saviour Show us your mercy 0 Lord and grant us your salvation Come 0 Lord and do not delay Alleluia ! Allelulal Ascendlt Deus \n",
       "<mark class=\"entity\" style=\"background: #a8d5e2; padding: 0.45em 0.6em; margin: 0 0.25em; line-height: 1; border-radius: 0.35em;\">\n",
       "    WIiiiam Byrd\n",
       "    <span style=\"font-size: 0.8em; font-weight: bold; line-height: 1; border-radius: 0.35em; vertical-align: middle; margin-left: 0.5rem\">COMPOSER</span>\n",
       "</mark>\n",
       " Sung in Latin 1543 -1623 Alleluia ! God hos ascended in jubilation and Christ the Lord with the sound of the trumpets Alleluia/ II Nunc Dfmlttls Christian Figueroa tenor The Te Deum of Sandor Slk Ill Sergei Rachmaninoff 1873-1943 Zoltan Kodaly 1882 -1967 Motet `` Lobet den Herrn alle Heiden '' \n",
       "<mark class=\"entity\" style=\"background: #a8d5e2; padding: 0.45em 0.6em; margin: 0 0.25em; line-height: 1; border-radius: 0.35em;\">\n",
       "    J. S. Bach\n",
       "    <span style=\"font-size: 0.8em; font-weight: bold; line-height: 1; border-radius: 0.35em; vertical-align: middle; margin-left: 0.5rem\">COMPOSER</span>\n",
       "</mark>\n",
       " Sung in German 1685 -1750 Praise the Lord all ye notions praise him all ye people For his mercy and truth watch over us for evermore Alleluia/ -intermission -<br></div></span>"
      ],
      "text/plain": [
       "<IPython.core.display.HTML object>"
      ]
     },
     "metadata": {},
     "output_type": "display_data"
    }
   ],
   "source": [
    "nlp_composer = assemble(\"../assets/openai-ner-composer-v2-examples.cfg\")\n",
    "doc_composer = nlp_composer(composer_text)\n",
    "\n",
    "displacy.render(doc_composer, style=\"ent\", options=options)"
   ]
  },
  {
   "cell_type": "markdown",
   "id": "119b15d8",
   "metadata": {},
   "source": [
    "Full disclosure, if we look at our few-shot examples, I'm clearly cheating here. I'm using the precise examples from this text. Ignoring that fact, this demonstrates how examples can influence the output. The reason why I did this, though was because I tried a lot of ways to get this to work with GPT-3.5, but ultimately failed. I think it's good to include this failure in this notebook because it demonstrates that some problems are just too complex for `3.5` and require GPT 4 or one of its variants.\n",
    "\n",
    "In the last notebook, we worked with only GPT-4, but as of yesterday (July 18, 2024), there's a replacement for GPT-3.5. It's cheaper and it's called `4o-mini`. We can use this specific model by changing a few things in our config:\n",
    "\n",
    "\n",
    "```yml\n",
    "[components.llm_ner.model]\n",
    "@llm_models = \"spacy.GPT-4.v3\"\n",
    "name = \"gpt-4o-mini\"\n",
    "config = {\"temperature\": 0.9}\n",
    "```\n",
    "\n",
    "Here, we have changed to `spacy.GPT-4.v3` to specify we will be using the GPT 4 models and we have specified which model with name. If I wanted to use the larger 4o, I could drop off the `mini` here. In my small tests, I didn't notice a difference here and `mini` proved to be a bit better. Notice also that I have turned up the temperature. This will help it make predictions on our-of-scope entities not included in our examples. All of this allows us to identify a couple extra composers."
   ]
  },
  {
   "cell_type": "code",
   "execution_count": 48,
   "id": "e19ab8ba",
   "metadata": {},
   "outputs": [
    {
     "data": {
      "text/html": [
       "<span class=\"tex2jax_ignore\"><div class=\"entities\" style=\"line-height: 2.5; direction: ltr\">Program Hodle Chrlstus Notus Est \n",
       "<mark class=\"entity\" style=\"background: #a8d5e2; padding: 0.45em 0.6em; margin: 0 0.25em; line-height: 1; border-radius: 0.35em;\">\n",
       "    Jan Peterszoon Sweellnck\n",
       "    <span style=\"font-size: 0.8em; font-weight: bold; line-height: 1; border-radius: 0.35em; vertical-align: middle; margin-left: 0.5rem\">COMPOSER</span>\n",
       "</mark>\n",
       " Sung in Latin 1562 -1621 Today Christ is born Today the Saviour hos appeared On earth the angels sing the archangels rejoice and the righteous ore glad saying `` Glory to God in the highest Noell Alleluia/ '' Rorate Coen \n",
       "<mark class=\"entity\" style=\"background: #a8d5e2; padding: 0.45em 0.6em; margin: 0 0.25em; line-height: 1; border-radius: 0.35em;\">\n",
       "    Giovanni Perlulgl do Palestrina\n",
       "    <span style=\"font-size: 0.8em; font-weight: bold; line-height: 1; border-radius: 0.35em; vertical-align: middle; margin-left: 0.5rem\">COMPOSER</span>\n",
       "</mark>\n",
       " Sung in Latin 1525 -1594 Pour out dew from above you heavens and let the clouds rain down the Just One Let the earth open and bring forth a saviour Show us your mercy 0 Lord and grant us your salvation Come 0 Lord and do not delay Alleluia ! Allelulal Ascendlt Deus \n",
       "<mark class=\"entity\" style=\"background: #a8d5e2; padding: 0.45em 0.6em; margin: 0 0.25em; line-height: 1; border-radius: 0.35em;\">\n",
       "    WIiiiam Byrd\n",
       "    <span style=\"font-size: 0.8em; font-weight: bold; line-height: 1; border-radius: 0.35em; vertical-align: middle; margin-left: 0.5rem\">COMPOSER</span>\n",
       "</mark>\n",
       " Sung in Latin 1543 -1623 Alleluia ! God hos ascended in jubilation and Christ the Lord with the sound of the trumpets Alleluia/ II Nunc Dfmlttls Christian Figueroa tenor The Te Deum of Sandor Slk Ill \n",
       "<mark class=\"entity\" style=\"background: #a8d5e2; padding: 0.45em 0.6em; margin: 0 0.25em; line-height: 1; border-radius: 0.35em;\">\n",
       "    Sergei Rachmaninoff\n",
       "    <span style=\"font-size: 0.8em; font-weight: bold; line-height: 1; border-radius: 0.35em; vertical-align: middle; margin-left: 0.5rem\">COMPOSER</span>\n",
       "</mark>\n",
       " 1873-1943 \n",
       "<mark class=\"entity\" style=\"background: #a8d5e2; padding: 0.45em 0.6em; margin: 0 0.25em; line-height: 1; border-radius: 0.35em;\">\n",
       "    Zoltan Kodaly\n",
       "    <span style=\"font-size: 0.8em; font-weight: bold; line-height: 1; border-radius: 0.35em; vertical-align: middle; margin-left: 0.5rem\">COMPOSER</span>\n",
       "</mark>\n",
       " 1882 -1967 Motet `` Lobet den Herrn alle Heiden '' \n",
       "<mark class=\"entity\" style=\"background: #a8d5e2; padding: 0.45em 0.6em; margin: 0 0.25em; line-height: 1; border-radius: 0.35em;\">\n",
       "    J. S. Bach\n",
       "    <span style=\"font-size: 0.8em; font-weight: bold; line-height: 1; border-radius: 0.35em; vertical-align: middle; margin-left: 0.5rem\">COMPOSER</span>\n",
       "</mark>\n",
       " Sung in German 1685 -1750 Praise the Lord all ye notions praise him all ye people For his mercy and truth watch over us for evermore Alleluia/ -intermission -<br></div></span>"
      ],
      "text/plain": [
       "<IPython.core.display.HTML object>"
      ]
     },
     "metadata": {},
     "output_type": "display_data"
    }
   ],
   "source": [
    "nlp_composer = assemble(\"../assets/openai-ner-composer-v2-examples-4o.cfg\")\n",
    "doc_composer = nlp_composer(composer_text)\n",
    "\n",
    "displacy.render(doc_composer, style=\"ent\", options=options)"
   ]
  },
  {
   "cell_type": "markdown",
   "id": "9efed892",
   "metadata": {},
   "source": [
    "# Relationship Extraction\n",
    "\n",
    "Sometimes extracting entities on their own isn't enough. Sometimes, we need to do relationship extraction. This is where we first identify the named entities and then try to understand how those entities relate to one another in the context of a text. This is particularly where LLMs shine because they have a very large understanding of language and the text. Relationship extraction is more complex than NER, so expect the need for a larger model here, especially if the types of relationships you are extracting are many and complex. Always start small and simple and work your way up.\n",
    "\n",
    "Imagine we wanted to identify not only `COMPOSER`, but also `COMPOSITION`. We could use GPT to find these two types of entities for us, but we wouldn't know which composer wrote which composition. Here's where relationship extraction comes into play.\n",
    "\n",
    "Let's take a look at our config for this problem.\n",
    "\n",
    "```yml\n",
    "[nlp]\n",
    "lang = \"en\"\n",
    "pipeline = [\"llm_ner\", \"llm_rel\"]\n",
    "\n",
    "[components]\n",
    "\n",
    "[components.llm_ner]\n",
    "factory = \"llm\"\n",
    "\n",
    "[components.llm_ner.task]\n",
    "@llm_tasks = \"spacy.NER.v2\"\n",
    "labels = [\"COMPOSER\", \"COMPOSITION\"]\n",
    "alignment_mode = \"expand\"\n",
    "\n",
    "[components.llm_ner.model]\n",
    "@llm_models = \"spacy.GPT-4.v3\"\n",
    "name = \"gpt-4\"\n",
    "config = {\"temperature\": 0.0}\n",
    "\n",
    "[components.llm_ner.task.examples]\n",
    "@misc = \"spacy.FewShotReader.v1\"\n",
    "path = \"../assets/examples/composer_example.yaml\"\n",
    "\n",
    "\n",
    "[components.llm_rel]\n",
    "factory = \"llm\"\n",
    "\n",
    "[components.llm_rel.task]\n",
    "@llm_tasks = \"spacy.REL.v1\"\n",
    "labels = [\"Wrote\"]\n",
    "```\n",
    "\n",
    "As we can see, we have defined an extra model in our pipeline (`llm_rel`). This will be our relationship extraction component:\n",
    "\n",
    "```yml\n",
    "[nlp]\n",
    "lang = \"en\"\n",
    "pipeline = [\"llm_ner\", \"llm_rel\"]\n",
    "```\n",
    "\n",
    "To add this into our pipeline, we only need to only define the factory. Again, we are using the `llm` factory.\n",
    "\n",
    "\n",
    "```yml\n",
    "[components.llm_rel]\n",
    "factory = \"llm\"\n",
    "```\n",
    "\n",
    "Finally, we need to specify the task.\n",
    "\n",
    "```yml\n",
    "[components.llm_rel.task]\n",
    "@llm_tasks = \"spacy.REL.v1\"\n",
    "labels = [\"Wrote\"]\n",
    "```\n",
    "\n",
    "Here, we are using the `spacy.REL.v1` task and we are specifying that we want to identify the relationship of Wrote. It's important to be explicit in your label naming here.\n",
    "\n",
    "Let's go ahead and run this the precise same way we have before. Notice that we are changing the config to our relationship config.\n"
   ]
  },
  {
   "cell_type": "code",
   "execution_count": 52,
   "id": "ed698bc8",
   "metadata": {},
   "outputs": [
    {
     "data": {
      "text/html": [
       "<span class=\"tex2jax_ignore\"><div class=\"entities\" style=\"line-height: 2.5; direction: ltr\">Program \n",
       "<mark class=\"entity\" style=\"background: #c2e8c4; padding: 0.45em 0.6em; margin: 0 0.25em; line-height: 1; border-radius: 0.35em;\">\n",
       "    Hodle Chrlstus Notus Est\n",
       "    <span style=\"font-size: 0.8em; font-weight: bold; line-height: 1; border-radius: 0.35em; vertical-align: middle; margin-left: 0.5rem\">COMPOSITION</span>\n",
       "</mark>\n",
       "[ENT0:COMPOSITION] \n",
       "<mark class=\"entity\" style=\"background: #a8d5e2; padding: 0.45em 0.6em; margin: 0 0.25em; line-height: 1; border-radius: 0.35em;\">\n",
       "    Jan Peterszoon Sweellnck\n",
       "    <span style=\"font-size: 0.8em; font-weight: bold; line-height: 1; border-radius: 0.35em; vertical-align: middle; margin-left: 0.5rem\">COMPOSER</span>\n",
       "</mark>\n",
       "[ENT1:COMPOSER] Sung in Latin 1562 -1621 Today Christ is born Today the Saviour hos appeared On earth the angels sing the archangels rejoice and the righteous ore glad saying `` Glory to God in the highest Noell Alleluia/ '' \n",
       "<mark class=\"entity\" style=\"background: #c2e8c4; padding: 0.45em 0.6em; margin: 0 0.25em; line-height: 1; border-radius: 0.35em;\">\n",
       "    Rorate Coen\n",
       "    <span style=\"font-size: 0.8em; font-weight: bold; line-height: 1; border-radius: 0.35em; vertical-align: middle; margin-left: 0.5rem\">COMPOSITION</span>\n",
       "</mark>\n",
       "[ENT2:COMPOSITION] \n",
       "<mark class=\"entity\" style=\"background: #a8d5e2; padding: 0.45em 0.6em; margin: 0 0.25em; line-height: 1; border-radius: 0.35em;\">\n",
       "    Giovanni Perlulgl do Palestrina\n",
       "    <span style=\"font-size: 0.8em; font-weight: bold; line-height: 1; border-radius: 0.35em; vertical-align: middle; margin-left: 0.5rem\">COMPOSER</span>\n",
       "</mark>\n",
       "[ENT3:COMPOSER] Sung in Latin 1525 -1594 Pour out dew from above you heavens and let the clouds rain down the Just One Let the earth open and bring forth a saviour Show us your mercy 0 Lord and grant us your salvation Come 0 Lord and do not delay Alleluia ! Allelulal \n",
       "<mark class=\"entity\" style=\"background: #c2e8c4; padding: 0.45em 0.6em; margin: 0 0.25em; line-height: 1; border-radius: 0.35em;\">\n",
       "    Ascendlt Deus\n",
       "    <span style=\"font-size: 0.8em; font-weight: bold; line-height: 1; border-radius: 0.35em; vertical-align: middle; margin-left: 0.5rem\">COMPOSITION</span>\n",
       "</mark>\n",
       "[ENT4:COMPOSITION] \n",
       "<mark class=\"entity\" style=\"background: #a8d5e2; padding: 0.45em 0.6em; margin: 0 0.25em; line-height: 1; border-radius: 0.35em;\">\n",
       "    WIiiiam Byrd\n",
       "    <span style=\"font-size: 0.8em; font-weight: bold; line-height: 1; border-radius: 0.35em; vertical-align: middle; margin-left: 0.5rem\">COMPOSER</span>\n",
       "</mark>\n",
       "[ENT5:COMPOSER] Sung in Latin 1543 -1623 Alleluia ! God hos ascended in jubilation and Christ the Lord with the sound of the trumpets Alleluia/ II \n",
       "<mark class=\"entity\" style=\"background: #c2e8c4; padding: 0.45em 0.6em; margin: 0 0.25em; line-height: 1; border-radius: 0.35em;\">\n",
       "    Nunc Dfmlttls\n",
       "    <span style=\"font-size: 0.8em; font-weight: bold; line-height: 1; border-radius: 0.35em; vertical-align: middle; margin-left: 0.5rem\">COMPOSITION</span>\n",
       "</mark>\n",
       "[ENT6:COMPOSITION] \n",
       "<mark class=\"entity\" style=\"background: #a8d5e2; padding: 0.45em 0.6em; margin: 0 0.25em; line-height: 1; border-radius: 0.35em;\">\n",
       "    Christian Figueroa\n",
       "    <span style=\"font-size: 0.8em; font-weight: bold; line-height: 1; border-radius: 0.35em; vertical-align: middle; margin-left: 0.5rem\">COMPOSER</span>\n",
       "</mark>\n",
       "[ENT7:COMPOSER] tenor The \n",
       "<mark class=\"entity\" style=\"background: #c2e8c4; padding: 0.45em 0.6em; margin: 0 0.25em; line-height: 1; border-radius: 0.35em;\">\n",
       "    Te Deum of Sandor Slk\n",
       "    <span style=\"font-size: 0.8em; font-weight: bold; line-height: 1; border-radius: 0.35em; vertical-align: middle; margin-left: 0.5rem\">COMPOSITION</span>\n",
       "</mark>\n",
       "[ENT8:COMPOSITION] Ill \n",
       "<mark class=\"entity\" style=\"background: #a8d5e2; padding: 0.45em 0.6em; margin: 0 0.25em; line-height: 1; border-radius: 0.35em;\">\n",
       "    Sergei Rachmaninoff\n",
       "    <span style=\"font-size: 0.8em; font-weight: bold; line-height: 1; border-radius: 0.35em; vertical-align: middle; margin-left: 0.5rem\">COMPOSER</span>\n",
       "</mark>\n",
       "[ENT9:COMPOSER] 1873-1943 \n",
       "<mark class=\"entity\" style=\"background: #a8d5e2; padding: 0.45em 0.6em; margin: 0 0.25em; line-height: 1; border-radius: 0.35em;\">\n",
       "    Zoltan Kodaly\n",
       "    <span style=\"font-size: 0.8em; font-weight: bold; line-height: 1; border-radius: 0.35em; vertical-align: middle; margin-left: 0.5rem\">COMPOSER</span>\n",
       "</mark>\n",
       "[ENT10:COMPOSER] 1882 -1967 \n",
       "<mark class=\"entity\" style=\"background: #c2e8c4; padding: 0.45em 0.6em; margin: 0 0.25em; line-height: 1; border-radius: 0.35em;\">\n",
       "    Motet `` Lobet den Herrn alle Heiden ''\n",
       "    <span style=\"font-size: 0.8em; font-weight: bold; line-height: 1; border-radius: 0.35em; vertical-align: middle; margin-left: 0.5rem\">COMPOSITION</span>\n",
       "</mark>\n",
       "[ENT11:COMPOSITION] \n",
       "<mark class=\"entity\" style=\"background: #a8d5e2; padding: 0.45em 0.6em; margin: 0 0.25em; line-height: 1; border-radius: 0.35em;\">\n",
       "    J. S. Bach\n",
       "    <span style=\"font-size: 0.8em; font-weight: bold; line-height: 1; border-radius: 0.35em; vertical-align: middle; margin-left: 0.5rem\">COMPOSER</span>\n",
       "</mark>\n",
       "[ENT12:COMPOSER] Sung in German 1685 -1750 Praise the Lord all ye notions praise him all ye people For his mercy and truth watch over us for evermore Alleluia/ -intermission -<br></div></span>"
      ],
      "text/plain": [
       "<IPython.core.display.HTML object>"
      ]
     },
     "metadata": {},
     "output_type": "display_data"
    }
   ],
   "source": [
    "nlp_composer = assemble(\"../assets/openai-ner-composer-v2-rel.cfg\")\n",
    "doc_composer = nlp_composer(composer_text)\n",
    "\n",
    "displacy.render(doc_composer, style=\"ent\", options=options)"
   ]
  },
  {
   "cell_type": "markdown",
   "id": "b780428d",
   "metadata": {},
   "source": [
    "You will notice that our output looks good, but we have some odd things appearing after our entities, such as `[ENT1:COMPOSER]`. This tells us the specific index of each entity. This is important because when we access our relationship tags at the Doc container level, we need to be able to reassemble these relationships. Let's examine the relationships by looking at the newly added `._.rel` attribute on our Doc."
   ]
  },
  {
   "cell_type": "code",
   "execution_count": 53,
   "id": "c0fae048",
   "metadata": {},
   "outputs": [
    {
     "data": {
      "text/plain": [
       "[RelationItem(dep=1, dest=0, relation='Wrote'),\n",
       " RelationItem(dep=3, dest=2, relation='Wrote'),\n",
       " RelationItem(dep=5, dest=4, relation='Wrote'),\n",
       " RelationItem(dep=7, dest=6, relation='Wrote'),\n",
       " RelationItem(dep=9, dest=8, relation='Wrote'),\n",
       " RelationItem(dep=10, dest=11, relation='Wrote')]"
      ]
     },
     "execution_count": 53,
     "metadata": {},
     "output_type": "execute_result"
    }
   ],
   "source": [
    "doc_composer._.rel"
   ]
  },
  {
   "cell_type": "markdown",
   "id": "bdce98f4",
   "metadata": {},
   "source": [
    "Each one of these is an instance of a `RelationItem`. Each relationship has three parts: the dep, or the source, the destination, or the target, and the relationship. If we want to reconstruct this into knowledge as prose, we can use the code snippet below. Please note that sometimes this order will be reversed. Definitely do manual validation. Examples here would allow for the model to understand more clearly how you intend this relationship to be constructed."
   ]
  },
  {
   "cell_type": "code",
   "execution_count": 54,
   "id": "301b3a32",
   "metadata": {},
   "outputs": [
    {
     "name": "stdout",
     "output_type": "stream",
     "text": [
      "Jan Peterszoon Sweellnck Wrote Hodle Chrlstus Notus Est\n",
      "Giovanni Perlulgl do Palestrina Wrote Rorate Coen\n",
      "WIiiiam Byrd Wrote Ascendlt Deus\n",
      "Christian Figueroa Wrote Nunc Dfmlttls\n",
      "Sergei Rachmaninoff Wrote Te Deum of Sandor Slk\n",
      "Zoltan Kodaly Wrote Motet `` Lobet den Herrn alle Heiden ''\n"
     ]
    }
   ],
   "source": [
    "for relation in doc_composer._.rel:\n",
    "    print(f\"{doc_composer.ents[relation.dep]} {relation.relation} {doc_composer.ents[relation.dest]}\")"
   ]
  },
  {
   "cell_type": "markdown",
   "id": "b0ccad0d",
   "metadata": {},
   "source": [
    "# Text Classification\n",
    "\n",
    "In addition to relationship extraction, we can also do text classification with `spacy-llm`. Here is an example of a simple config for text classification that determines if the input text is Toxic or Not Toxic.\n",
    "\n",
    "```yml\n",
    "[nlp]\n",
    "lang = \"en\"\n",
    "pipeline = [\"llm_textcat\"]\n",
    "\n",
    "[components]\n",
    "\n",
    "[components.llm_textcat]\n",
    "factory = \"llm\"\n",
    "\n",
    "[components.llm_textcat.task]\n",
    "@llm_tasks = \"spacy.TextCat.v2\"\n",
    "labels = [\"NON_TOXIC\", \"TOXIC\"]\n",
    "\n",
    "[components.llm_textcat.model]\n",
    "@llm_models = \"spacy.GPT-3-5.v3\"\n",
    "config = {\"temperature\": 0.0}\n",
    "```\n",
    "\n",
    "The big difference here is where we specify the task:\n",
    "\n",
    "```yml\n",
    "[components.llm_textcat.task]\n",
    "@llm_tasks = \"spacy.TextCat.v2\"\n",
    "labels = [\"NON_TOXIC\", \"TOXIC\"]\n",
    "```"
   ]
  },
  {
   "cell_type": "code",
   "execution_count": 55,
   "id": "45acb962",
   "metadata": {},
   "outputs": [
    {
     "data": {
      "text/plain": [
       "defaultdict(<function spacy_llm.tasks.textcat.util.reduce_shards_to_doc.<locals>.<lambda>()>,\n",
       "            {'NON_TOXIC': 0.0, 'TOXIC': 1.0})"
      ]
     },
     "execution_count": 55,
     "metadata": {},
     "output_type": "execute_result"
    }
   ],
   "source": [
    "tweet = \"\"\"\n",
    "Tweet:\n",
    "You are terrible!\n",
    "\"\"\"\n",
    "\n",
    "nlp_textcat = assemble(\"../assets/openai-textcat.cfg\")\n",
    "doc_textcat = nlp_textcat(tweet)\n",
    "doc_textcat.cats"
   ]
  },
  {
   "cell_type": "markdown",
   "id": "65250735",
   "metadata": {},
   "source": [
    "# Multiple Tasks\n",
    "\n",
    "We have already seen an example of multiple tasks above, where we identified relationship extraction. Let's break this config down a bit more to explain how you can stack multiple tasks in the same config file. Here, we will be using this config:\n",
    "\n",
    "```yml\n",
    "[nlp]\n",
    "lang = \"en\"\n",
    "pipeline = [\"llm_ner\", \"llm_textcat\"]\n",
    "\n",
    "[components]\n",
    "\n",
    "[components.llm_ner]\n",
    "factory = \"llm\"\n",
    "\n",
    "[components.llm_ner.task]\n",
    "@llm_tasks = \"spacy.NER.v2\"\n",
    "labels = [\"COMPOSER\", \"PERSON\"]\n",
    "\n",
    "[components.llm_ner.model]\n",
    "@llm_models = \"spacy.GPT-3-5.v3\"\n",
    "config = {\"temperature\": 0.0}\n",
    "\n",
    "[components.llm_textcat]\n",
    "factory = \"llm\"\n",
    "\n",
    "[components.llm_textcat.task]\n",
    "@llm_tasks = \"spacy.TextCat.v2\"\n",
    "labels = [\"COMPLIMENT\", \"INSULT\"]\n",
    "\n",
    "[components.llm_textcat.model]\n",
    "@llm_models = \"spacy.GPT-3-5.v3\"\n",
    "config = {\"temperature\": 0.0}\n",
    "```\n",
    "\n",
    "Can you identify and break down the two asks that we have here? Take a moment and consider the config file and try to figure out what it will do before we move forward."
   ]
  },
  {
   "cell_type": "code",
   "execution_count": 57,
   "id": "557648b0",
   "metadata": {},
   "outputs": [
    {
     "data": {
      "text/html": [
       "<span class=\"tex2jax_ignore\"><div class=\"entities\" style=\"line-height: 2.5; direction: ltr\"><br>Tweet:<br>\n",
       "<mark class=\"entity\" style=\"background: #aa9cfc; padding: 0.45em 0.6em; margin: 0 0.25em; line-height: 1; border-radius: 0.35em;\">\n",
       "    John\n",
       "    <span style=\"font-size: 0.8em; font-weight: bold; line-height: 1; border-radius: 0.35em; vertical-align: middle; margin-left: 0.5rem\">PERSON</span>\n",
       "</mark>\n",
       ", you are great!<br></div></span>"
      ],
      "text/plain": [
       "<IPython.core.display.HTML object>"
      ]
     },
     "metadata": {},
     "output_type": "display_data"
    }
   ],
   "source": [
    "tweet = \"\"\"\n",
    "Tweet:\n",
    "John, you are great!\n",
    "\"\"\"\n",
    "\n",
    "nlp_multi = assemble(\"../assets/openai-multiple-task.cfg\")\n",
    "doc_multi = nlp_multi(tweet)\n",
    "\n",
    "displacy.render(doc_multi, style=\"ent\", options=options)"
   ]
  },
  {
   "cell_type": "markdown",
   "id": "4c6d811b",
   "metadata": {},
   "source": [
    "As we can see, we have access to our named entities, but we can also access our categories."
   ]
  },
  {
   "cell_type": "code",
   "execution_count": 58,
   "id": "3e34b1d2",
   "metadata": {},
   "outputs": [
    {
     "data": {
      "text/plain": [
       "defaultdict(<function spacy_llm.tasks.textcat.util.reduce_shards_to_doc.<locals>.<lambda>()>,\n",
       "            {'COMPLIMENT': 1.0, 'INSULT': 0.0})"
      ]
     },
     "execution_count": 58,
     "metadata": {},
     "output_type": "execute_result"
    }
   ],
   "source": [
    "doc_multi.cats"
   ]
  },
  {
   "cell_type": "markdown",
   "id": "cb6115b2",
   "metadata": {},
   "source": [
    "And as we can see, this is a compliment."
   ]
  }
 ],
 "metadata": {
  "kernelspec": {
   "display_name": "Python 3 (ipykernel)",
   "language": "python",
   "name": "python3"
  },
  "language_info": {
   "codemirror_mode": {
    "name": "ipython",
    "version": 3
   },
   "file_extension": ".py",
   "mimetype": "text/x-python",
   "name": "python",
   "nbconvert_exporter": "python",
   "pygments_lexer": "ipython3",
   "version": "3.10.14"
  },
  "toc": {
   "base_numbering": 1,
   "nav_menu": {},
   "number_sections": true,
   "sideBar": true,
   "skip_h1_title": false,
   "title_cell": "Table of Contents",
   "title_sidebar": "Contents",
   "toc_cell": false,
   "toc_position": {},
   "toc_section_display": true,
   "toc_window_display": true
  }
 },
 "nbformat": 4,
 "nbformat_minor": 5
}
