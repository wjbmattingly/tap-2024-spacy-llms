{
 "cells": [
  {
   "cell_type": "markdown",
   "id": "3e89c5b3",
   "metadata": {},
   "source": [
    "<img align=\"left\" src=\"https://ithaka-labs.s3.amazonaws.com/static-files/images/tdm/tdmdocs/tapi-logo-small.png\" />\n",
    "\n",
    "This notebook free for educational reuse under [Creative Commons CC BY License](https://creativecommons.org/licenses/by/4.0/).\n",
    "\n",
    "Created by [Firstname Lastname](https://) for the 2024 Text Analysis Pedagogy Institute, with support from [Constellate](https://constellate.org).\n",
    "\n",
    "For questions/comments/improvements, email author@email.address.<br />\n",
    "____"
   ]
  },
  {
   "cell_type": "markdown",
   "id": "68f932d1",
   "metadata": {},
   "source": [
    "# `spaCy in the World of LLMs` `1`\n",
    "\n",
    "This is lesson `1` of 3 in the educational series on `spaCy and Large Language Models (LLMs)`. This notebook is intended `introduce students to spaCy, while also considering the current state of the field of natural language processing (NLP)`. \n",
    "\n",
    "**Skills:** \n",
    "* Python\n",
    "\n",
    "**Audience:** `Teachers` / `Learners` / `Researchers`\n",
    "\n",
    "**Use case:** `Tutorial` / `Reference` / `Explanation` \n",
    "\n",
    "`Include the use case definition from [here](https://constellate.org/docs/documentation-categories)`\n",
    "\n",
    "**Difficulty:** `Beginner`\n",
    "\n",
    "`Beginner assumes users are relatively new to Python and Jupyter Notebooks. The user is helped step-by-step with lots of explanatory text.`\n",
    "`Intermediate assumes users are familiar with Python and have been programming for 6+ months. Code makes up a larger part of the notebook and basic concepts related to Python are not explained.`\n",
    "`Advanced assumes users are very familiar with Python and have been programming for years, but they may not be familiar with the process being explained.`\n",
    "\n",
    "**Completion time:** `90 minutes`\n",
    "\n",
    "**Knowledge Required:** \n",
    "```\n",
    "* Python basics (variables, flow control, functions, lists, dictionaries)\n",
    "```\n",
    "\n",
    "**Knowledge Recommended:**\n",
    "```\n",
    "* A general understanding of natural language processing (NLP)\n",
    "```\n",
    "\n",
    "**Learning Objectives:**\n",
    "After this lesson, learners will be able to:\n",
    "```\n",
    "1. Understand the main concepts of natural language processing (NLP)\n",
    "2. Understand the role of spaCy within NLP\n",
    "3. Understand the key advantages and disadvantages of large language models.\n",
    "```\n",
    "___"
   ]
  },
  {
   "cell_type": "markdown",
   "id": "157c0555",
   "metadata": {},
   "source": [
    "# Required Python Libraries\n",
    "`List out any libraries used and what they are used for`\n",
    "* [spaCy](https://spacy.io/) for performing [natural language processing](https://docs.constellate.org/key-terms/#nlp).\n",
    "\n",
    "## Install Required Libraries"
   ]
  },
  {
   "cell_type": "code",
   "execution_count": null,
   "id": "e8a220f5",
   "metadata": {},
   "outputs": [],
   "source": [
    "### Install Libraries ###\n",
    "\n",
    "# Using !pip installs\n",
    "!pip install spacy spacy-llm"
   ]
  },
  {
   "cell_type": "code",
   "execution_count": 3,
   "id": "5480e2a8",
   "metadata": {},
   "outputs": [],
   "source": [
    "### Import Libraries ###\n",
    "import spacy"
   ]
  },
  {
   "cell_type": "code",
   "execution_count": 1,
   "id": "c1eb9084",
   "metadata": {},
   "outputs": [
    {
     "ename": "ValueError",
     "evalue": "Install CUDA to load and run the LLM on the GPU, or install 'accelerate' to dynamically distribute the LLM on the CPU or even the hard disk. The latter may be slow.",
     "output_type": "error",
     "traceback": [
      "\u001b[0;31m---------------------------------------------------------------------------\u001b[0m",
      "\u001b[0;31mValueError\u001b[0m                                Traceback (most recent call last)",
      "\u001b[1;32m/Users/wjbmattingly/tap-2024-spacy-llms/notebooks/00-template.ipynb Cell 6\u001b[0m line \u001b[0;36m2\n\u001b[1;32m      <a href='vscode-notebook-cell:/Users/wjbmattingly/tap-2024-spacy-llms/notebooks/00-template.ipynb#X16sZmlsZQ%3D%3D?line=0'>1</a>\u001b[0m \u001b[39mfrom\u001b[39;00m \u001b[39mspacy_llm\u001b[39;00m\u001b[39m.\u001b[39;00m\u001b[39mutil\u001b[39;00m \u001b[39mimport\u001b[39;00m assemble\n\u001b[0;32m----> <a href='vscode-notebook-cell:/Users/wjbmattingly/tap-2024-spacy-llms/notebooks/00-template.ipynb#X16sZmlsZQ%3D%3D?line=1'>2</a>\u001b[0m nlp \u001b[39m=\u001b[39m assemble(\u001b[39m\"\u001b[39;49m\u001b[39m../assets/hf.cfg\u001b[39;49m\u001b[39m\"\u001b[39;49m)\n\u001b[1;32m      <a href='vscode-notebook-cell:/Users/wjbmattingly/tap-2024-spacy-llms/notebooks/00-template.ipynb#X16sZmlsZQ%3D%3D?line=2'>3</a>\u001b[0m content \u001b[39m=\u001b[39m \u001b[39m\"\u001b[39m\u001b[39mJack and Jill rode up the hill in Les Deux Alpes\u001b[39m\u001b[39m\"\u001b[39m\n\u001b[1;32m      <a href='vscode-notebook-cell:/Users/wjbmattingly/tap-2024-spacy-llms/notebooks/00-template.ipynb#X16sZmlsZQ%3D%3D?line=3'>4</a>\u001b[0m doc \u001b[39m=\u001b[39m nlp(content)\n",
      "File \u001b[0;32m/Applications/anaconda3/envs/tap/lib/python3.10/site-packages/spacy_llm/util.py:48\u001b[0m, in \u001b[0;36massemble\u001b[0;34m(config_path, overrides)\u001b[0m\n\u001b[1;32m     46\u001b[0m config_path \u001b[39m=\u001b[39m Path(config_path)\n\u001b[1;32m     47\u001b[0m config \u001b[39m=\u001b[39m load_config(config_path, overrides\u001b[39m=\u001b[39moverrides, interpolate\u001b[39m=\u001b[39m\u001b[39mFalse\u001b[39;00m)\n\u001b[0;32m---> 48\u001b[0m \u001b[39mreturn\u001b[39;00m assemble_from_config(config)\n",
      "File \u001b[0;32m/Applications/anaconda3/envs/tap/lib/python3.10/site-packages/spacy_llm/util.py:28\u001b[0m, in \u001b[0;36massemble_from_config\u001b[0;34m(config)\u001b[0m\n\u001b[1;32m     22\u001b[0m \u001b[39mdef\u001b[39;00m \u001b[39massemble_from_config\u001b[39m(config: Config) \u001b[39m-\u001b[39m\u001b[39m>\u001b[39m Language:\n\u001b[1;32m     23\u001b[0m \u001b[39m    \u001b[39m\u001b[39m\"\"\"Assemble a spaCy pipeline from a confection Config object.\u001b[39;00m\n\u001b[1;32m     24\u001b[0m \n\u001b[1;32m     25\u001b[0m \u001b[39m    config (Config): Config to load spaCy pipeline from.\u001b[39;00m\n\u001b[1;32m     26\u001b[0m \u001b[39m    RETURNS (Language): An initialized spaCy pipeline.\u001b[39;00m\n\u001b[1;32m     27\u001b[0m \u001b[39m    \"\"\"\u001b[39;00m\n\u001b[0;32m---> 28\u001b[0m     nlp \u001b[39m=\u001b[39m load_model_from_config(config, auto_fill\u001b[39m=\u001b[39;49m\u001b[39mTrue\u001b[39;49;00m)\n\u001b[1;32m     29\u001b[0m     config \u001b[39m=\u001b[39m config\u001b[39m.\u001b[39minterpolate()\n\u001b[1;32m     30\u001b[0m     sourced \u001b[39m=\u001b[39m get_sourced_components(config)\n",
      "File \u001b[0;32m/Applications/anaconda3/envs/tap/lib/python3.10/site-packages/spacy/util.py:587\u001b[0m, in \u001b[0;36mload_model_from_config\u001b[0;34m(config, meta, vocab, disable, enable, exclude, auto_fill, validate)\u001b[0m\n\u001b[1;32m    584\u001b[0m \u001b[39m# This will automatically handle all codes registered via the languages\u001b[39;00m\n\u001b[1;32m    585\u001b[0m \u001b[39m# registry, including custom subclasses provided via entry points\u001b[39;00m\n\u001b[1;32m    586\u001b[0m lang_cls \u001b[39m=\u001b[39m get_lang_class(nlp_config[\u001b[39m\"\u001b[39m\u001b[39mlang\u001b[39m\u001b[39m\"\u001b[39m])\n\u001b[0;32m--> 587\u001b[0m nlp \u001b[39m=\u001b[39m lang_cls\u001b[39m.\u001b[39;49mfrom_config(\n\u001b[1;32m    588\u001b[0m     config,\n\u001b[1;32m    589\u001b[0m     vocab\u001b[39m=\u001b[39;49mvocab,\n\u001b[1;32m    590\u001b[0m     disable\u001b[39m=\u001b[39;49mdisable,\n\u001b[1;32m    591\u001b[0m     enable\u001b[39m=\u001b[39;49menable,\n\u001b[1;32m    592\u001b[0m     exclude\u001b[39m=\u001b[39;49mexclude,\n\u001b[1;32m    593\u001b[0m     auto_fill\u001b[39m=\u001b[39;49mauto_fill,\n\u001b[1;32m    594\u001b[0m     validate\u001b[39m=\u001b[39;49mvalidate,\n\u001b[1;32m    595\u001b[0m     meta\u001b[39m=\u001b[39;49mmeta,\n\u001b[1;32m    596\u001b[0m )\n\u001b[1;32m    597\u001b[0m \u001b[39mreturn\u001b[39;00m nlp\n",
      "File \u001b[0;32m/Applications/anaconda3/envs/tap/lib/python3.10/site-packages/spacy/language.py:1889\u001b[0m, in \u001b[0;36mLanguage.from_config\u001b[0;34m(cls, config, vocab, disable, enable, exclude, meta, auto_fill, validate)\u001b[0m\n\u001b[1;32m   1886\u001b[0m     factory \u001b[39m=\u001b[39m pipe_cfg\u001b[39m.\u001b[39mpop(\u001b[39m\"\u001b[39m\u001b[39mfactory\u001b[39m\u001b[39m\"\u001b[39m)\n\u001b[1;32m   1887\u001b[0m     \u001b[39m# The pipe name (key in the config) here is the unique name\u001b[39;00m\n\u001b[1;32m   1888\u001b[0m     \u001b[39m# of the component, not necessarily the factory\u001b[39;00m\n\u001b[0;32m-> 1889\u001b[0m     nlp\u001b[39m.\u001b[39;49madd_pipe(\n\u001b[1;32m   1890\u001b[0m         factory,\n\u001b[1;32m   1891\u001b[0m         name\u001b[39m=\u001b[39;49mpipe_name,\n\u001b[1;32m   1892\u001b[0m         config\u001b[39m=\u001b[39;49mpipe_cfg,\n\u001b[1;32m   1893\u001b[0m         validate\u001b[39m=\u001b[39;49mvalidate,\n\u001b[1;32m   1894\u001b[0m         raw_config\u001b[39m=\u001b[39;49mraw_config,\n\u001b[1;32m   1895\u001b[0m     )\n\u001b[1;32m   1896\u001b[0m \u001b[39melse\u001b[39;00m:\n\u001b[1;32m   1897\u001b[0m     \u001b[39massert\u001b[39;00m \u001b[39m\"\u001b[39m\u001b[39msource\u001b[39m\u001b[39m\"\u001b[39m \u001b[39min\u001b[39;00m pipe_cfg\n",
      "File \u001b[0;32m/Applications/anaconda3/envs/tap/lib/python3.10/site-packages/spacy/language.py:821\u001b[0m, in \u001b[0;36mLanguage.add_pipe\u001b[0;34m(self, factory_name, name, before, after, first, last, source, config, raw_config, validate)\u001b[0m\n\u001b[1;32m    817\u001b[0m     pipe_component, factory_name \u001b[39m=\u001b[39m \u001b[39mself\u001b[39m\u001b[39m.\u001b[39mcreate_pipe_from_source(\n\u001b[1;32m    818\u001b[0m         factory_name, source, name\u001b[39m=\u001b[39mname\n\u001b[1;32m    819\u001b[0m     )\n\u001b[1;32m    820\u001b[0m \u001b[39melse\u001b[39;00m:\n\u001b[0;32m--> 821\u001b[0m     pipe_component \u001b[39m=\u001b[39m \u001b[39mself\u001b[39;49m\u001b[39m.\u001b[39;49mcreate_pipe(\n\u001b[1;32m    822\u001b[0m         factory_name,\n\u001b[1;32m    823\u001b[0m         name\u001b[39m=\u001b[39;49mname,\n\u001b[1;32m    824\u001b[0m         config\u001b[39m=\u001b[39;49mconfig,\n\u001b[1;32m    825\u001b[0m         raw_config\u001b[39m=\u001b[39;49mraw_config,\n\u001b[1;32m    826\u001b[0m         validate\u001b[39m=\u001b[39;49mvalidate,\n\u001b[1;32m    827\u001b[0m     )\n\u001b[1;32m    828\u001b[0m pipe_index \u001b[39m=\u001b[39m \u001b[39mself\u001b[39m\u001b[39m.\u001b[39m_get_pipe_index(before, after, first, last)\n\u001b[1;32m    829\u001b[0m \u001b[39mself\u001b[39m\u001b[39m.\u001b[39m_pipe_meta[name] \u001b[39m=\u001b[39m \u001b[39mself\u001b[39m\u001b[39m.\u001b[39mget_factory_meta(factory_name)\n",
      "File \u001b[0;32m/Applications/anaconda3/envs/tap/lib/python3.10/site-packages/spacy/language.py:709\u001b[0m, in \u001b[0;36mLanguage.create_pipe\u001b[0;34m(self, factory_name, name, config, raw_config, validate)\u001b[0m\n\u001b[1;32m    706\u001b[0m cfg \u001b[39m=\u001b[39m {factory_name: config}\n\u001b[1;32m    707\u001b[0m \u001b[39m# We're calling the internal _fill here to avoid constructing the\u001b[39;00m\n\u001b[1;32m    708\u001b[0m \u001b[39m# registered functions twice\u001b[39;00m\n\u001b[0;32m--> 709\u001b[0m resolved \u001b[39m=\u001b[39m registry\u001b[39m.\u001b[39;49mresolve(cfg, validate\u001b[39m=\u001b[39;49mvalidate)\n\u001b[1;32m    710\u001b[0m filled \u001b[39m=\u001b[39m registry\u001b[39m.\u001b[39mfill({\u001b[39m\"\u001b[39m\u001b[39mcfg\u001b[39m\u001b[39m\"\u001b[39m: cfg[factory_name]}, validate\u001b[39m=\u001b[39mvalidate)[\u001b[39m\"\u001b[39m\u001b[39mcfg\u001b[39m\u001b[39m\"\u001b[39m]\n\u001b[1;32m    711\u001b[0m filled \u001b[39m=\u001b[39m Config(filled)\n",
      "File \u001b[0;32m/Applications/anaconda3/envs/tap/lib/python3.10/site-packages/confection/__init__.py:760\u001b[0m, in \u001b[0;36mregistry.resolve\u001b[0;34m(cls, config, schema, overrides, validate)\u001b[0m\n\u001b[1;32m    751\u001b[0m \u001b[39m@classmethod\u001b[39m\n\u001b[1;32m    752\u001b[0m \u001b[39mdef\u001b[39;00m \u001b[39mresolve\u001b[39m(\n\u001b[1;32m    753\u001b[0m     \u001b[39mcls\u001b[39m,\n\u001b[0;32m   (...)\u001b[0m\n\u001b[1;32m    758\u001b[0m     validate: \u001b[39mbool\u001b[39m \u001b[39m=\u001b[39m \u001b[39mTrue\u001b[39;00m,\n\u001b[1;32m    759\u001b[0m ) \u001b[39m-\u001b[39m\u001b[39m>\u001b[39m Dict[\u001b[39mstr\u001b[39m, Any]:\n\u001b[0;32m--> 760\u001b[0m     resolved, _ \u001b[39m=\u001b[39m \u001b[39mcls\u001b[39;49m\u001b[39m.\u001b[39;49m_make(\n\u001b[1;32m    761\u001b[0m         config, schema\u001b[39m=\u001b[39;49mschema, overrides\u001b[39m=\u001b[39;49moverrides, validate\u001b[39m=\u001b[39;49mvalidate, resolve\u001b[39m=\u001b[39;49m\u001b[39mTrue\u001b[39;49;00m\n\u001b[1;32m    762\u001b[0m     )\n\u001b[1;32m    763\u001b[0m     \u001b[39mreturn\u001b[39;00m resolved\n",
      "File \u001b[0;32m/Applications/anaconda3/envs/tap/lib/python3.10/site-packages/confection/__init__.py:809\u001b[0m, in \u001b[0;36mregistry._make\u001b[0;34m(cls, config, schema, overrides, resolve, validate)\u001b[0m\n\u001b[1;32m    807\u001b[0m \u001b[39mif\u001b[39;00m \u001b[39mnot\u001b[39;00m is_interpolated:\n\u001b[1;32m    808\u001b[0m     config \u001b[39m=\u001b[39m Config(orig_config)\u001b[39m.\u001b[39minterpolate()\n\u001b[0;32m--> 809\u001b[0m filled, _, resolved \u001b[39m=\u001b[39m \u001b[39mcls\u001b[39;49m\u001b[39m.\u001b[39;49m_fill(\n\u001b[1;32m    810\u001b[0m     config, schema, validate\u001b[39m=\u001b[39;49mvalidate, overrides\u001b[39m=\u001b[39;49moverrides, resolve\u001b[39m=\u001b[39;49mresolve\n\u001b[1;32m    811\u001b[0m )\n\u001b[1;32m    812\u001b[0m filled \u001b[39m=\u001b[39m Config(filled, section_order\u001b[39m=\u001b[39msection_order)\n\u001b[1;32m    813\u001b[0m \u001b[39m# Check that overrides didn't include invalid properties not in config\u001b[39;00m\n",
      "File \u001b[0;32m/Applications/anaconda3/envs/tap/lib/python3.10/site-packages/confection/__init__.py:864\u001b[0m, in \u001b[0;36mregistry._fill\u001b[0;34m(cls, config, schema, validate, resolve, parent, overrides)\u001b[0m\n\u001b[1;32m    862\u001b[0m     schema\u001b[39m.\u001b[39m__fields__[key] \u001b[39m=\u001b[39m copy_model_field(field, Any)\n\u001b[1;32m    863\u001b[0m promise_schema \u001b[39m=\u001b[39m \u001b[39mcls\u001b[39m\u001b[39m.\u001b[39mmake_promise_schema(value, resolve\u001b[39m=\u001b[39mresolve)\n\u001b[0;32m--> 864\u001b[0m filled[key], validation[v_key], final[key] \u001b[39m=\u001b[39m \u001b[39mcls\u001b[39;49m\u001b[39m.\u001b[39;49m_fill(\n\u001b[1;32m    865\u001b[0m     value,\n\u001b[1;32m    866\u001b[0m     promise_schema,\n\u001b[1;32m    867\u001b[0m     validate\u001b[39m=\u001b[39;49mvalidate,\n\u001b[1;32m    868\u001b[0m     resolve\u001b[39m=\u001b[39;49mresolve,\n\u001b[1;32m    869\u001b[0m     parent\u001b[39m=\u001b[39;49mkey_parent,\n\u001b[1;32m    870\u001b[0m     overrides\u001b[39m=\u001b[39;49moverrides,\n\u001b[1;32m    871\u001b[0m )\n\u001b[1;32m    872\u001b[0m reg_name, func_name \u001b[39m=\u001b[39m \u001b[39mcls\u001b[39m\u001b[39m.\u001b[39mget_constructor(final[key])\n\u001b[1;32m    873\u001b[0m args, kwargs \u001b[39m=\u001b[39m \u001b[39mcls\u001b[39m\u001b[39m.\u001b[39mparse_args(final[key])\n",
      "File \u001b[0;32m/Applications/anaconda3/envs/tap/lib/python3.10/site-packages/confection/__init__.py:881\u001b[0m, in \u001b[0;36mregistry._fill\u001b[0;34m(cls, config, schema, validate, resolve, parent, overrides)\u001b[0m\n\u001b[1;32m    878\u001b[0m     getter \u001b[39m=\u001b[39m \u001b[39mcls\u001b[39m\u001b[39m.\u001b[39mget(reg_name, func_name)\n\u001b[1;32m    879\u001b[0m     \u001b[39m# We don't want to try/except this and raise our own error\u001b[39;00m\n\u001b[1;32m    880\u001b[0m     \u001b[39m# here, because we want the traceback if the function fails.\u001b[39;00m\n\u001b[0;32m--> 881\u001b[0m     getter_result \u001b[39m=\u001b[39m getter(\u001b[39m*\u001b[39;49margs, \u001b[39m*\u001b[39;49m\u001b[39m*\u001b[39;49mkwargs)\n\u001b[1;32m    882\u001b[0m \u001b[39melse\u001b[39;00m:\n\u001b[1;32m    883\u001b[0m     \u001b[39m# We're not resolving and calling the function, so replace\u001b[39;00m\n\u001b[1;32m    884\u001b[0m     \u001b[39m# the getter_result with a Promise class\u001b[39;00m\n\u001b[1;32m    885\u001b[0m     getter_result \u001b[39m=\u001b[39m Promise(\n\u001b[1;32m    886\u001b[0m         registry\u001b[39m=\u001b[39mreg_name, name\u001b[39m=\u001b[39mfunc_name, args\u001b[39m=\u001b[39margs, kwargs\u001b[39m=\u001b[39mkwargs\n\u001b[1;32m    887\u001b[0m     )\n",
      "File \u001b[0;32m/Applications/anaconda3/envs/tap/lib/python3.10/site-packages/spacy_llm/models/hf/dolly.py:67\u001b[0m, in \u001b[0;36mdolly_hf\u001b[0;34m(name, config_init, config_run)\u001b[0m\n\u001b[1;32m     54\u001b[0m \u001b[39m@registry\u001b[39m\u001b[39m.\u001b[39mllm_models(\u001b[39m\"\u001b[39m\u001b[39mspacy.Dolly.v1\u001b[39m\u001b[39m\"\u001b[39m)\n\u001b[1;32m     55\u001b[0m \u001b[39mdef\u001b[39;00m \u001b[39mdolly_hf\u001b[39m(\n\u001b[1;32m     56\u001b[0m     name: Dolly\u001b[39m.\u001b[39mMODEL_NAMES,\n\u001b[1;32m     57\u001b[0m     config_init: Optional[Dict[\u001b[39mstr\u001b[39m, Any]] \u001b[39m=\u001b[39m SimpleFrozenDict(),\n\u001b[1;32m     58\u001b[0m     config_run: Optional[Dict[\u001b[39mstr\u001b[39m, Any]] \u001b[39m=\u001b[39m SimpleFrozenDict(),\n\u001b[1;32m     59\u001b[0m ) \u001b[39m-\u001b[39m\u001b[39m>\u001b[39m Callable[[Iterable[Iterable[\u001b[39mstr\u001b[39m]]], Iterable[Iterable[\u001b[39mstr\u001b[39m]]]:\n\u001b[1;32m     60\u001b[0m \u001b[39m    \u001b[39m\u001b[39m\"\"\"Generates Dolly instance that can execute a set of prompts and return the raw responses.\u001b[39;00m\n\u001b[1;32m     61\u001b[0m \u001b[39m    name (Literal): Name of the Dolly model. Has to be one of Dolly.get_model_names().\u001b[39;00m\n\u001b[1;32m     62\u001b[0m \u001b[39m    config_init (Optional[Dict[str, Any]]): HF config for initializing the model.\u001b[39;00m\n\u001b[0;32m   (...)\u001b[0m\n\u001b[1;32m     65\u001b[0m \u001b[39m        the raw responses.\u001b[39;00m\n\u001b[1;32m     66\u001b[0m \u001b[39m    \"\"\"\u001b[39;00m\n\u001b[0;32m---> 67\u001b[0m     \u001b[39mreturn\u001b[39;00m Dolly(\n\u001b[1;32m     68\u001b[0m         name\u001b[39m=\u001b[39;49mname, config_init\u001b[39m=\u001b[39;49mconfig_init, config_run\u001b[39m=\u001b[39;49mconfig_run, context_length\u001b[39m=\u001b[39;49m\u001b[39m2048\u001b[39;49m\n\u001b[1;32m     69\u001b[0m     )\n",
      "File \u001b[0;32m/Applications/anaconda3/envs/tap/lib/python3.10/site-packages/spacy_llm/models/hf/base.py:32\u001b[0m, in \u001b[0;36mHuggingFace.__init__\u001b[0;34m(self, name, config_init, config_run, context_length)\u001b[0m\n\u001b[1;32m     30\u001b[0m \u001b[39mself\u001b[39m\u001b[39m.\u001b[39m_name \u001b[39m=\u001b[39m name \u001b[39mif\u001b[39;00m \u001b[39mself\u001b[39m\u001b[39m.\u001b[39mhf_account \u001b[39min\u001b[39;00m name \u001b[39melse\u001b[39;00m \u001b[39mf\u001b[39m\u001b[39m\"\u001b[39m\u001b[39m{\u001b[39;00m\u001b[39mself\u001b[39m\u001b[39m.\u001b[39mhf_account\u001b[39m}\u001b[39;00m\u001b[39m/\u001b[39m\u001b[39m{\u001b[39;00mname\u001b[39m}\u001b[39;00m\u001b[39m\"\u001b[39m\n\u001b[1;32m     31\u001b[0m \u001b[39mself\u001b[39m\u001b[39m.\u001b[39m_context_length \u001b[39m=\u001b[39m context_length\n\u001b[0;32m---> 32\u001b[0m default_cfg_init, default_cfg_run \u001b[39m=\u001b[39m \u001b[39mself\u001b[39;49m\u001b[39m.\u001b[39;49mcompile_default_configs()\n\u001b[1;32m     33\u001b[0m \u001b[39mself\u001b[39m\u001b[39m.\u001b[39m_config_init, \u001b[39mself\u001b[39m\u001b[39m.\u001b[39m_config_run \u001b[39m=\u001b[39m default_cfg_init, default_cfg_run\n\u001b[1;32m     35\u001b[0m \u001b[39mif\u001b[39;00m config_init:\n",
      "File \u001b[0;32m/Applications/anaconda3/envs/tap/lib/python3.10/site-packages/spacy_llm/models/hf/dolly.py:41\u001b[0m, in \u001b[0;36mDolly.compile_default_configs\u001b[0;34m()\u001b[0m\n\u001b[1;32m     39\u001b[0m \u001b[39m@staticmethod\u001b[39m\n\u001b[1;32m     40\u001b[0m \u001b[39mdef\u001b[39;00m \u001b[39mcompile_default_configs\u001b[39m() \u001b[39m-\u001b[39m\u001b[39m>\u001b[39m Tuple[Dict[\u001b[39mstr\u001b[39m, Any], Dict[\u001b[39mstr\u001b[39m, Any]]:\n\u001b[0;32m---> 41\u001b[0m     default_cfg_init, default_cfg_run \u001b[39m=\u001b[39m HuggingFace\u001b[39m.\u001b[39;49mcompile_default_configs()\n\u001b[1;32m     42\u001b[0m     \u001b[39mreturn\u001b[39;00m (\n\u001b[1;32m     43\u001b[0m         {\n\u001b[1;32m     44\u001b[0m             \u001b[39m*\u001b[39m\u001b[39m*\u001b[39mdefault_cfg_init,\n\u001b[0;32m   (...)\u001b[0m\n\u001b[1;32m     50\u001b[0m         default_cfg_run,\n\u001b[1;32m     51\u001b[0m     )\n",
      "File \u001b[0;32m/Applications/anaconda3/envs/tap/lib/python3.10/site-packages/spacy_llm/models/hf/base.py:148\u001b[0m, in \u001b[0;36mHuggingFace.compile_default_configs\u001b[0;34m()\u001b[0m\n\u001b[1;32m    142\u001b[0m         warnings\u001b[39m.\u001b[39mwarn(\n\u001b[1;32m    143\u001b[0m             \u001b[39m\"\u001b[39m\u001b[39mCouldn\u001b[39m\u001b[39m'\u001b[39m\u001b[39mt find a CUDA GPU, so the setting \u001b[39m\u001b[39m'\u001b[39m\u001b[39mdevice_map:auto\u001b[39m\u001b[39m'\u001b[39m\u001b[39m will be used, which may result \u001b[39m\u001b[39m\"\u001b[39m\n\u001b[1;32m    144\u001b[0m             \u001b[39m\"\u001b[39m\u001b[39min the LLM being loaded (partly) on the CPU or even the hard disk, which may be slow. \u001b[39m\u001b[39m\"\u001b[39m\n\u001b[1;32m    145\u001b[0m             \u001b[39m\"\u001b[39m\u001b[39mInstall cuda to be able to load and run the LLM on the GPU instead.\u001b[39m\u001b[39m\"\u001b[39m\n\u001b[1;32m    146\u001b[0m         )\n\u001b[1;32m    147\u001b[0m     \u001b[39melse\u001b[39;00m:\n\u001b[0;32m--> 148\u001b[0m         \u001b[39mraise\u001b[39;00m \u001b[39mValueError\u001b[39;00m(\n\u001b[1;32m    149\u001b[0m             \u001b[39m\"\u001b[39m\u001b[39mInstall CUDA to load and run the LLM on the GPU, or install \u001b[39m\u001b[39m'\u001b[39m\u001b[39maccelerate\u001b[39m\u001b[39m'\u001b[39m\u001b[39m to dynamically \u001b[39m\u001b[39m\"\u001b[39m\n\u001b[1;32m    150\u001b[0m             \u001b[39m\"\u001b[39m\u001b[39mdistribute the LLM on the CPU or even the hard disk. The latter may be slow.\u001b[39m\u001b[39m\"\u001b[39m\n\u001b[1;32m    151\u001b[0m         )\n\u001b[1;32m    153\u001b[0m \u001b[39mreturn\u001b[39;00m default_cfg_init, default_cfg_run\n",
      "\u001b[0;31mValueError\u001b[0m: Install CUDA to load and run the LLM on the GPU, or install 'accelerate' to dynamically distribute the LLM on the CPU or even the hard disk. The latter may be slow."
     ]
    }
   ],
   "source": [
    "from spacy_llm.util import assemble\n",
    "nlp = assemble(\"../assets/hf.cfg\")\n",
    "content = \"Jack and Jill rode up the hill in Les Deux Alpes\"\n",
    "doc = nlp(content)\n",
    "print([(ent.text, ent.label_) for ent in doc.ents])"
   ]
  },
  {
   "cell_type": "markdown",
   "id": "f53edaa2",
   "metadata": {},
   "source": [
    "# Introduction\n",
    "\n",
    "```\n",
    "Introduce the lesson topic. Answer questions such as:\n",
    "* Why is it useful? \n",
    "* Why should we learn it? \n",
    "* Who might use it? \n",
    "* Where has it been used by scholars/industry?\n",
    "* What do we need to do it?\n",
    "* What subjects are included in the notebooks?\n",
    "* What is not in this notebook? Where should we look for it?\n",
    "```"
   ]
  },
  {
   "cell_type": "markdown",
   "id": "eca42822",
   "metadata": {},
   "source": [
    "# Exercises (Optional)\n",
    "\n",
    "`If possible, include practice exercises for users to do on their own. These may have clear solutions or be more open-ended.`"
   ]
  },
  {
   "cell_type": "markdown",
   "id": "e42c9736",
   "metadata": {},
   "source": [
    "# Solutions (Optional)\n",
    "`Offer some possible solutions for the practice exercises.`\n"
   ]
  },
  {
   "cell_type": "markdown",
   "id": "227a6d92",
   "metadata": {},
   "source": []
  },
  {
   "cell_type": "markdown",
   "id": "d2368107",
   "metadata": {},
   "source": [
    "# References (Optional)\n",
    "No citations required but include this if you have cited academic sources. Use whatever format you like, just be consistent. Markdown footnotes are not well-supported in notebooks.[$^{1}$](#1) I suggest using an anchor link with plain html as shown.[$^{2}$](#2)"
   ]
  },
  {
   "cell_type": "markdown",
   "id": "f4c7fd8c",
   "metadata": {},
   "source": [
    "1. <a id=\"1\"></a> Here is an anchor link footnote.\n",
    "2. <a id=\"2\"></a> D'Ignazio, Catherine and Lauren F. Klein. [*Data Feminism*](https://mitpress.mit.edu/books/data-feminism). MIT Press, 2020."
   ]
  }
 ],
 "metadata": {
  "kernelspec": {
   "display_name": "Python 3 (ipykernel)",
   "language": "python",
   "name": "python3"
  },
  "language_info": {
   "codemirror_mode": {
    "name": "ipython",
    "version": 3
   },
   "file_extension": ".py",
   "mimetype": "text/x-python",
   "name": "python",
   "nbconvert_exporter": "python",
   "pygments_lexer": "ipython3",
   "version": "3.10.14"
  },
  "toc": {
   "base_numbering": 1,
   "nav_menu": {},
   "number_sections": true,
   "sideBar": true,
   "skip_h1_title": false,
   "title_cell": "Table of Contents",
   "title_sidebar": "Contents",
   "toc_cell": false,
   "toc_position": {},
   "toc_section_display": true,
   "toc_window_display": true
  }
 },
 "nbformat": 4,
 "nbformat_minor": 5
}
